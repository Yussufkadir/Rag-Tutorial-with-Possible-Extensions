{
 "cells": [
  {
   "cell_type": "markdown",
   "id": "6087baae",
   "metadata": {},
   "source": [
    "### 1. Installing the torch and other necessary stuff."
   ]
  },
  {
   "cell_type": "code",
   "execution_count": 66,
   "id": "ea1c7d70",
   "metadata": {},
   "outputs": [
    {
     "name": "stdout",
     "output_type": "stream",
     "text": [
      "Requirement already satisfied: torch in c:\\users\\yusuf\\anaconda3\\lib\\site-packages (2.6.0)\n",
      "Requirement already satisfied: torchvision in c:\\users\\yusuf\\anaconda3\\lib\\site-packages (0.21.0)\n",
      "Requirement already satisfied: torchaudio in c:\\users\\yusuf\\anaconda3\\lib\\site-packages (2.6.0)\n",
      "Requirement already satisfied: filelock in c:\\users\\yusuf\\anaconda3\\lib\\site-packages (from torch) (3.9.0)\n",
      "Requirement already satisfied: typing-extensions>=4.10.0 in c:\\users\\yusuf\\anaconda3\\lib\\site-packages (from torch) (4.13.2)\n",
      "Requirement already satisfied: networkx in c:\\users\\yusuf\\anaconda3\\lib\\site-packages (from torch) (3.1)\n",
      "Requirement already satisfied: jinja2 in c:\\users\\yusuf\\anaconda3\\lib\\site-packages (from torch) (3.1.2)\n",
      "Requirement already satisfied: fsspec in c:\\users\\yusuf\\anaconda3\\lib\\site-packages (from torch) (2025.3.2)\n",
      "Requirement already satisfied: sympy==1.13.1 in c:\\users\\yusuf\\anaconda3\\lib\\site-packages (from torch) (1.13.1)\n",
      "Requirement already satisfied: mpmath<1.4,>=1.1.0 in c:\\users\\yusuf\\anaconda3\\lib\\site-packages (from sympy==1.13.1->torch) (1.3.0)\n",
      "Requirement already satisfied: numpy in c:\\users\\yusuf\\anaconda3\\lib\\site-packages (from torchvision) (1.23.5)\n",
      "Requirement already satisfied: pillow!=8.3.*,>=5.3.0 in c:\\users\\yusuf\\anaconda3\\lib\\site-packages (from torchvision) (9.4.0)\n",
      "Requirement already satisfied: MarkupSafe>=2.0 in c:\\users\\yusuf\\anaconda3\\lib\\site-packages (from jinja2->torch) (2.1.1)\n"
     ]
    }
   ],
   "source": [
    "!pip install torch torchvision torchaudio"
   ]
  },
  {
   "cell_type": "code",
   "execution_count": 67,
   "id": "a2334d49",
   "metadata": {},
   "outputs": [
    {
     "name": "stdout",
     "output_type": "stream",
     "text": [
      "Requirement already satisfied: PyMuPDF in c:\\users\\yusuf\\anaconda3\\lib\\site-packages (1.25.5)\n"
     ]
    }
   ],
   "source": [
    "!pip install PyMuPDF"
   ]
  },
  {
   "cell_type": "code",
   "execution_count": 68,
   "id": "c5ba2bc5",
   "metadata": {},
   "outputs": [
    {
     "name": "stdout",
     "output_type": "stream",
     "text": [
      "Requirement already satisfied: tqdm in c:\\users\\yusuf\\anaconda3\\lib\\site-packages (4.65.0)\n",
      "Requirement already satisfied: colorama in c:\\users\\yusuf\\anaconda3\\lib\\site-packages (from tqdm) (0.4.6)\n"
     ]
    }
   ],
   "source": [
    "!pip install tqdm"
   ]
  },
  {
   "cell_type": "code",
   "execution_count": 69,
   "id": "c52dec36",
   "metadata": {},
   "outputs": [
    {
     "name": "stdout",
     "output_type": "stream",
     "text": [
      "Requirement already satisfied: numpy==1.23.5 in c:\\users\\yusuf\\anaconda3\\lib\\site-packages (1.23.5)\n"
     ]
    }
   ],
   "source": [
    "!pip install numpy==1.23.5"
   ]
  },
  {
   "cell_type": "code",
   "execution_count": 70,
   "id": "066c1feb",
   "metadata": {},
   "outputs": [
    {
     "name": "stdout",
     "output_type": "stream",
     "text": [
      "Requirement already satisfied: pip in c:\\users\\yusuf\\anaconda3\\lib\\site-packages (25.0.1)\n",
      "Requirement already satisfied: setuptools in c:\\users\\yusuf\\anaconda3\\lib\\site-packages (78.1.0)\n",
      "Requirement already satisfied: wheel in c:\\users\\yusuf\\anaconda3\\lib\\site-packages (0.45.1)\n"
     ]
    }
   ],
   "source": [
    "!C:\\Users\\yusuf\\anaconda3\\python.exe -m pip install -U pip setuptools wheel"
   ]
  },
  {
   "cell_type": "code",
   "execution_count": 71,
   "id": "3813599b",
   "metadata": {},
   "outputs": [
    {
     "name": "stdout",
     "output_type": "stream",
     "text": [
      "Requirement already satisfied: spacy==3.5.3 in c:\\users\\yusuf\\anaconda3\\lib\\site-packages (3.5.3)\n",
      "Requirement already satisfied: spacy-legacy<3.1.0,>=3.0.11 in c:\\users\\yusuf\\anaconda3\\lib\\site-packages (from spacy==3.5.3) (3.0.12)\n",
      "Requirement already satisfied: spacy-loggers<2.0.0,>=1.0.0 in c:\\users\\yusuf\\anaconda3\\lib\\site-packages (from spacy==3.5.3) (1.0.5)\n",
      "Requirement already satisfied: murmurhash<1.1.0,>=0.28.0 in c:\\users\\yusuf\\anaconda3\\lib\\site-packages (from spacy==3.5.3) (1.0.12)\n",
      "Requirement already satisfied: cymem<2.1.0,>=2.0.2 in c:\\users\\yusuf\\anaconda3\\lib\\site-packages (from spacy==3.5.3) (2.0.11)\n",
      "Requirement already satisfied: preshed<3.1.0,>=3.0.2 in c:\\users\\yusuf\\anaconda3\\lib\\site-packages (from spacy==3.5.3) (3.0.9)\n",
      "Requirement already satisfied: thinc<8.2.0,>=8.1.8 in c:\\users\\yusuf\\anaconda3\\lib\\site-packages (from spacy==3.5.3) (8.1.12)\n",
      "Requirement already satisfied: wasabi<1.2.0,>=0.9.1 in c:\\users\\yusuf\\anaconda3\\lib\\site-packages (from spacy==3.5.3) (1.1.3)\n",
      "Requirement already satisfied: srsly<3.0.0,>=2.4.3 in c:\\users\\yusuf\\anaconda3\\lib\\site-packages (from spacy==3.5.3) (2.5.1)\n",
      "Requirement already satisfied: catalogue<2.1.0,>=2.0.6 in c:\\users\\yusuf\\anaconda3\\lib\\site-packages (from spacy==3.5.3) (2.0.10)\n",
      "Requirement already satisfied: typer<0.8.0,>=0.3.0 in c:\\users\\yusuf\\anaconda3\\lib\\site-packages (from spacy==3.5.3) (0.7.0)\n",
      "Requirement already satisfied: pathy>=0.10.0 in c:\\users\\yusuf\\anaconda3\\lib\\site-packages (from spacy==3.5.3) (0.11.0)\n",
      "Requirement already satisfied: smart-open<7.0.0,>=5.2.1 in c:\\users\\yusuf\\anaconda3\\lib\\site-packages (from spacy==3.5.3) (5.2.1)\n",
      "Requirement already satisfied: tqdm<5.0.0,>=4.38.0 in c:\\users\\yusuf\\anaconda3\\lib\\site-packages (from spacy==3.5.3) (4.65.0)\n",
      "Requirement already satisfied: numpy>=1.15.0 in c:\\users\\yusuf\\anaconda3\\lib\\site-packages (from spacy==3.5.3) (1.23.5)\n",
      "Requirement already satisfied: requests<3.0.0,>=2.13.0 in c:\\users\\yusuf\\anaconda3\\lib\\site-packages (from spacy==3.5.3) (2.31.0)\n",
      "Requirement already satisfied: pydantic!=1.8,!=1.8.1,<1.11.0,>=1.7.4 in c:\\users\\yusuf\\anaconda3\\lib\\site-packages (from spacy==3.5.3) (1.10.21)\n",
      "Requirement already satisfied: jinja2 in c:\\users\\yusuf\\anaconda3\\lib\\site-packages (from spacy==3.5.3) (3.1.2)\n",
      "Requirement already satisfied: setuptools in c:\\users\\yusuf\\anaconda3\\lib\\site-packages (from spacy==3.5.3) (78.1.0)\n",
      "Requirement already satisfied: packaging>=20.0 in c:\\users\\yusuf\\anaconda3\\lib\\site-packages (from spacy==3.5.3) (23.0)\n",
      "Requirement already satisfied: langcodes<4.0.0,>=3.2.0 in c:\\users\\yusuf\\anaconda3\\lib\\site-packages (from spacy==3.5.3) (3.5.0)\n",
      "Requirement already satisfied: language-data>=1.2 in c:\\users\\yusuf\\anaconda3\\lib\\site-packages (from langcodes<4.0.0,>=3.2.0->spacy==3.5.3) (1.3.0)\n",
      "Requirement already satisfied: pathlib-abc==0.1.1 in c:\\users\\yusuf\\anaconda3\\lib\\site-packages (from pathy>=0.10.0->spacy==3.5.3) (0.1.1)\n",
      "Requirement already satisfied: typing-extensions>=4.2.0 in c:\\users\\yusuf\\anaconda3\\lib\\site-packages (from pydantic!=1.8,!=1.8.1,<1.11.0,>=1.7.4->spacy==3.5.3) (4.13.2)\n",
      "Requirement already satisfied: charset-normalizer<4,>=2 in c:\\users\\yusuf\\anaconda3\\lib\\site-packages (from requests<3.0.0,>=2.13.0->spacy==3.5.3) (2.0.4)\n",
      "Requirement already satisfied: idna<4,>=2.5 in c:\\users\\yusuf\\anaconda3\\lib\\site-packages (from requests<3.0.0,>=2.13.0->spacy==3.5.3) (3.4)\n",
      "Requirement already satisfied: urllib3<3,>=1.21.1 in c:\\users\\yusuf\\anaconda3\\lib\\site-packages (from requests<3.0.0,>=2.13.0->spacy==3.5.3) (1.26.16)\n",
      "Requirement already satisfied: certifi>=2017.4.17 in c:\\users\\yusuf\\anaconda3\\lib\\site-packages (from requests<3.0.0,>=2.13.0->spacy==3.5.3) (2024.8.30)\n",
      "Requirement already satisfied: blis<0.8.0,>=0.7.8 in c:\\users\\yusuf\\anaconda3\\lib\\site-packages (from thinc<8.2.0,>=8.1.8->spacy==3.5.3) (0.7.11)\n",
      "Requirement already satisfied: confection<1.0.0,>=0.0.1 in c:\\users\\yusuf\\anaconda3\\lib\\site-packages (from thinc<8.2.0,>=8.1.8->spacy==3.5.3) (0.1.5)\n",
      "Requirement already satisfied: colorama in c:\\users\\yusuf\\anaconda3\\lib\\site-packages (from tqdm<5.0.0,>=4.38.0->spacy==3.5.3) (0.4.6)\n",
      "Requirement already satisfied: click<9.0.0,>=7.1.1 in c:\\users\\yusuf\\anaconda3\\lib\\site-packages (from typer<0.8.0,>=0.3.0->spacy==3.5.3) (8.0.4)\n",
      "Requirement already satisfied: MarkupSafe>=2.0 in c:\\users\\yusuf\\anaconda3\\lib\\site-packages (from jinja2->spacy==3.5.3) (2.1.1)\n",
      "Requirement already satisfied: marisa-trie>=1.1.0 in c:\\users\\yusuf\\anaconda3\\lib\\site-packages (from language-data>=1.2->langcodes<4.0.0,>=3.2.0->spacy==3.5.3) (1.2.1)\n"
     ]
    }
   ],
   "source": [
    "# Install spaCy with specific compatible versions\n",
    "!pip install spacy==3.5.3"
   ]
  },
  {
   "cell_type": "code",
   "execution_count": 72,
   "id": "fff9fadd",
   "metadata": {},
   "outputs": [
    {
     "name": "stdout",
     "output_type": "stream",
     "text": [
      "Collecting en-core-web-sm==3.5.0\n",
      "  Downloading https://github.com/explosion/spacy-models/releases/download/en_core_web_sm-3.5.0/en_core_web_sm-3.5.0-py3-none-any.whl (12.8 MB)\n",
      "     ---------------------------------------- 0.0/12.8 MB ? eta -:--:--\n",
      "     -- ------------------------------------- 0.8/12.8 MB 11.2 MB/s eta 0:00:02\n",
      "     ------- -------------------------------- 2.4/12.8 MB 7.9 MB/s eta 0:00:02\n",
      "     -------------- ------------------------- 4.7/12.8 MB 8.9 MB/s eta 0:00:01\n",
      "     ---------------------- ----------------- 7.1/12.8 MB 9.7 MB/s eta 0:00:01\n",
      "     ------------------------------ --------- 9.7/12.8 MB 10.2 MB/s eta 0:00:01\n",
      "     ------------------------------------- - 12.3/12.8 MB 10.6 MB/s eta 0:00:01\n",
      "     --------------------------------------- 12.8/12.8 MB 10.3 MB/s eta 0:00:00\n",
      "Requirement already satisfied: spacy<3.6.0,>=3.5.0 in c:\\users\\yusuf\\anaconda3\\lib\\site-packages (from en-core-web-sm==3.5.0) (3.5.3)\n",
      "Requirement already satisfied: spacy-legacy<3.1.0,>=3.0.11 in c:\\users\\yusuf\\anaconda3\\lib\\site-packages (from spacy<3.6.0,>=3.5.0->en-core-web-sm==3.5.0) (3.0.12)\n",
      "Requirement already satisfied: spacy-loggers<2.0.0,>=1.0.0 in c:\\users\\yusuf\\anaconda3\\lib\\site-packages (from spacy<3.6.0,>=3.5.0->en-core-web-sm==3.5.0) (1.0.5)\n",
      "Requirement already satisfied: murmurhash<1.1.0,>=0.28.0 in c:\\users\\yusuf\\anaconda3\\lib\\site-packages (from spacy<3.6.0,>=3.5.0->en-core-web-sm==3.5.0) (1.0.12)\n",
      "Requirement already satisfied: cymem<2.1.0,>=2.0.2 in c:\\users\\yusuf\\anaconda3\\lib\\site-packages (from spacy<3.6.0,>=3.5.0->en-core-web-sm==3.5.0) (2.0.11)\n",
      "Requirement already satisfied: preshed<3.1.0,>=3.0.2 in c:\\users\\yusuf\\anaconda3\\lib\\site-packages (from spacy<3.6.0,>=3.5.0->en-core-web-sm==3.5.0) (3.0.9)\n",
      "Requirement already satisfied: thinc<8.2.0,>=8.1.8 in c:\\users\\yusuf\\anaconda3\\lib\\site-packages (from spacy<3.6.0,>=3.5.0->en-core-web-sm==3.5.0) (8.1.12)\n",
      "Requirement already satisfied: wasabi<1.2.0,>=0.9.1 in c:\\users\\yusuf\\anaconda3\\lib\\site-packages (from spacy<3.6.0,>=3.5.0->en-core-web-sm==3.5.0) (1.1.3)\n",
      "Requirement already satisfied: srsly<3.0.0,>=2.4.3 in c:\\users\\yusuf\\anaconda3\\lib\\site-packages (from spacy<3.6.0,>=3.5.0->en-core-web-sm==3.5.0) (2.5.1)\n",
      "Requirement already satisfied: catalogue<2.1.0,>=2.0.6 in c:\\users\\yusuf\\anaconda3\\lib\\site-packages (from spacy<3.6.0,>=3.5.0->en-core-web-sm==3.5.0) (2.0.10)\n",
      "Requirement already satisfied: typer<0.8.0,>=0.3.0 in c:\\users\\yusuf\\anaconda3\\lib\\site-packages (from spacy<3.6.0,>=3.5.0->en-core-web-sm==3.5.0) (0.7.0)\n",
      "Requirement already satisfied: pathy>=0.10.0 in c:\\users\\yusuf\\anaconda3\\lib\\site-packages (from spacy<3.6.0,>=3.5.0->en-core-web-sm==3.5.0) (0.11.0)\n",
      "Requirement already satisfied: smart-open<7.0.0,>=5.2.1 in c:\\users\\yusuf\\anaconda3\\lib\\site-packages (from spacy<3.6.0,>=3.5.0->en-core-web-sm==3.5.0) (5.2.1)\n",
      "Requirement already satisfied: tqdm<5.0.0,>=4.38.0 in c:\\users\\yusuf\\anaconda3\\lib\\site-packages (from spacy<3.6.0,>=3.5.0->en-core-web-sm==3.5.0) (4.65.0)\n",
      "Requirement already satisfied: numpy>=1.15.0 in c:\\users\\yusuf\\anaconda3\\lib\\site-packages (from spacy<3.6.0,>=3.5.0->en-core-web-sm==3.5.0) (1.23.5)\n",
      "Requirement already satisfied: requests<3.0.0,>=2.13.0 in c:\\users\\yusuf\\anaconda3\\lib\\site-packages (from spacy<3.6.0,>=3.5.0->en-core-web-sm==3.5.0) (2.31.0)\n",
      "Requirement already satisfied: pydantic!=1.8,!=1.8.1,<1.11.0,>=1.7.4 in c:\\users\\yusuf\\anaconda3\\lib\\site-packages (from spacy<3.6.0,>=3.5.0->en-core-web-sm==3.5.0) (1.10.21)\n",
      "Requirement already satisfied: jinja2 in c:\\users\\yusuf\\anaconda3\\lib\\site-packages (from spacy<3.6.0,>=3.5.0->en-core-web-sm==3.5.0) (3.1.2)\n",
      "Requirement already satisfied: setuptools in c:\\users\\yusuf\\anaconda3\\lib\\site-packages (from spacy<3.6.0,>=3.5.0->en-core-web-sm==3.5.0) (78.1.0)\n",
      "Requirement already satisfied: packaging>=20.0 in c:\\users\\yusuf\\anaconda3\\lib\\site-packages (from spacy<3.6.0,>=3.5.0->en-core-web-sm==3.5.0) (23.0)\n",
      "Requirement already satisfied: langcodes<4.0.0,>=3.2.0 in c:\\users\\yusuf\\anaconda3\\lib\\site-packages (from spacy<3.6.0,>=3.5.0->en-core-web-sm==3.5.0) (3.5.0)\n",
      "Requirement already satisfied: language-data>=1.2 in c:\\users\\yusuf\\anaconda3\\lib\\site-packages (from langcodes<4.0.0,>=3.2.0->spacy<3.6.0,>=3.5.0->en-core-web-sm==3.5.0) (1.3.0)\n",
      "Requirement already satisfied: pathlib-abc==0.1.1 in c:\\users\\yusuf\\anaconda3\\lib\\site-packages (from pathy>=0.10.0->spacy<3.6.0,>=3.5.0->en-core-web-sm==3.5.0) (0.1.1)\n",
      "Requirement already satisfied: typing-extensions>=4.2.0 in c:\\users\\yusuf\\anaconda3\\lib\\site-packages (from pydantic!=1.8,!=1.8.1,<1.11.0,>=1.7.4->spacy<3.6.0,>=3.5.0->en-core-web-sm==3.5.0) (4.13.2)\n",
      "Requirement already satisfied: charset-normalizer<4,>=2 in c:\\users\\yusuf\\anaconda3\\lib\\site-packages (from requests<3.0.0,>=2.13.0->spacy<3.6.0,>=3.5.0->en-core-web-sm==3.5.0) (2.0.4)\n",
      "Requirement already satisfied: idna<4,>=2.5 in c:\\users\\yusuf\\anaconda3\\lib\\site-packages (from requests<3.0.0,>=2.13.0->spacy<3.6.0,>=3.5.0->en-core-web-sm==3.5.0) (3.4)\n",
      "Requirement already satisfied: urllib3<3,>=1.21.1 in c:\\users\\yusuf\\anaconda3\\lib\\site-packages (from requests<3.0.0,>=2.13.0->spacy<3.6.0,>=3.5.0->en-core-web-sm==3.5.0) (1.26.16)\n",
      "Requirement already satisfied: certifi>=2017.4.17 in c:\\users\\yusuf\\anaconda3\\lib\\site-packages (from requests<3.0.0,>=2.13.0->spacy<3.6.0,>=3.5.0->en-core-web-sm==3.5.0) (2024.8.30)\n",
      "Requirement already satisfied: blis<0.8.0,>=0.7.8 in c:\\users\\yusuf\\anaconda3\\lib\\site-packages (from thinc<8.2.0,>=8.1.8->spacy<3.6.0,>=3.5.0->en-core-web-sm==3.5.0) (0.7.11)\n",
      "Requirement already satisfied: confection<1.0.0,>=0.0.1 in c:\\users\\yusuf\\anaconda3\\lib\\site-packages (from thinc<8.2.0,>=8.1.8->spacy<3.6.0,>=3.5.0->en-core-web-sm==3.5.0) (0.1.5)\n",
      "Requirement already satisfied: colorama in c:\\users\\yusuf\\anaconda3\\lib\\site-packages (from tqdm<5.0.0,>=4.38.0->spacy<3.6.0,>=3.5.0->en-core-web-sm==3.5.0) (0.4.6)\n",
      "Requirement already satisfied: click<9.0.0,>=7.1.1 in c:\\users\\yusuf\\anaconda3\\lib\\site-packages (from typer<0.8.0,>=0.3.0->spacy<3.6.0,>=3.5.0->en-core-web-sm==3.5.0) (8.0.4)\n",
      "Requirement already satisfied: MarkupSafe>=2.0 in c:\\users\\yusuf\\anaconda3\\lib\\site-packages (from jinja2->spacy<3.6.0,>=3.5.0->en-core-web-sm==3.5.0) (2.1.1)\n",
      "Requirement already satisfied: marisa-trie>=1.1.0 in c:\\users\\yusuf\\anaconda3\\lib\\site-packages (from language-data>=1.2->langcodes<4.0.0,>=3.2.0->spacy<3.6.0,>=3.5.0->en-core-web-sm==3.5.0) (1.2.1)\n",
      "\u001b[38;5;2m✔ Download and installation successful\u001b[0m\n",
      "You can now load the package via spacy.load('en_core_web_sm')\n"
     ]
    }
   ],
   "source": [
    "# Download spaCy model\n",
    "!python -m spacy download en_core_web_sm"
   ]
  },
  {
   "cell_type": "code",
   "execution_count": 73,
   "id": "37d650d1",
   "metadata": {},
   "outputs": [
    {
     "name": "stdout",
     "output_type": "stream",
     "text": [
      "Collecting sentence-transformers\n",
      "  Using cached sentence_transformers-4.1.0-py3-none-any.whl.metadata (13 kB)\n",
      "Collecting transformers<5.0.0,>=4.41.0 (from sentence-transformers)\n",
      "  Using cached transformers-4.51.3-py3-none-any.whl.metadata (38 kB)\n",
      "Requirement already satisfied: tqdm in c:\\users\\yusuf\\anaconda3\\lib\\site-packages (from sentence-transformers) (4.65.0)\n",
      "Requirement already satisfied: torch>=1.11.0 in c:\\users\\yusuf\\anaconda3\\lib\\site-packages (from sentence-transformers) (2.6.0)\n",
      "Requirement already satisfied: scikit-learn in c:\\users\\yusuf\\anaconda3\\lib\\site-packages (from sentence-transformers) (1.3.0)\n",
      "Requirement already satisfied: scipy in c:\\users\\yusuf\\anaconda3\\lib\\site-packages (from sentence-transformers) (1.10.1)\n",
      "Requirement already satisfied: huggingface-hub>=0.20.0 in c:\\users\\yusuf\\anaconda3\\lib\\site-packages (from sentence-transformers) (0.30.2)\n",
      "Requirement already satisfied: Pillow in c:\\users\\yusuf\\anaconda3\\lib\\site-packages (from sentence-transformers) (9.4.0)\n",
      "Requirement already satisfied: typing_extensions>=4.5.0 in c:\\users\\yusuf\\anaconda3\\lib\\site-packages (from sentence-transformers) (4.13.2)\n",
      "Requirement already satisfied: filelock in c:\\users\\yusuf\\anaconda3\\lib\\site-packages (from huggingface-hub>=0.20.0->sentence-transformers) (3.9.0)\n",
      "Requirement already satisfied: fsspec>=2023.5.0 in c:\\users\\yusuf\\anaconda3\\lib\\site-packages (from huggingface-hub>=0.20.0->sentence-transformers) (2025.3.2)\n",
      "Requirement already satisfied: packaging>=20.9 in c:\\users\\yusuf\\anaconda3\\lib\\site-packages (from huggingface-hub>=0.20.0->sentence-transformers) (23.0)\n",
      "Requirement already satisfied: pyyaml>=5.1 in c:\\users\\yusuf\\anaconda3\\lib\\site-packages (from huggingface-hub>=0.20.0->sentence-transformers) (6.0)\n",
      "Requirement already satisfied: requests in c:\\users\\yusuf\\anaconda3\\lib\\site-packages (from huggingface-hub>=0.20.0->sentence-transformers) (2.31.0)\n",
      "Requirement already satisfied: networkx in c:\\users\\yusuf\\anaconda3\\lib\\site-packages (from torch>=1.11.0->sentence-transformers) (3.1)\n",
      "Requirement already satisfied: jinja2 in c:\\users\\yusuf\\anaconda3\\lib\\site-packages (from torch>=1.11.0->sentence-transformers) (3.1.2)\n",
      "Requirement already satisfied: sympy==1.13.1 in c:\\users\\yusuf\\anaconda3\\lib\\site-packages (from torch>=1.11.0->sentence-transformers) (1.13.1)\n",
      "Requirement already satisfied: mpmath<1.4,>=1.1.0 in c:\\users\\yusuf\\anaconda3\\lib\\site-packages (from sympy==1.13.1->torch>=1.11.0->sentence-transformers) (1.3.0)\n",
      "Requirement already satisfied: colorama in c:\\users\\yusuf\\anaconda3\\lib\\site-packages (from tqdm->sentence-transformers) (0.4.6)\n",
      "Requirement already satisfied: numpy>=1.17 in c:\\users\\yusuf\\anaconda3\\lib\\site-packages (from transformers<5.0.0,>=4.41.0->sentence-transformers) (1.23.5)\n",
      "Requirement already satisfied: regex!=2019.12.17 in c:\\users\\yusuf\\anaconda3\\lib\\site-packages (from transformers<5.0.0,>=4.41.0->sentence-transformers) (2022.7.9)\n",
      "Requirement already satisfied: tokenizers<0.22,>=0.21 in c:\\users\\yusuf\\anaconda3\\lib\\site-packages (from transformers<5.0.0,>=4.41.0->sentence-transformers) (0.21.1)\n",
      "Requirement already satisfied: safetensors>=0.4.3 in c:\\users\\yusuf\\anaconda3\\lib\\site-packages (from transformers<5.0.0,>=4.41.0->sentence-transformers) (0.5.3)\n",
      "Requirement already satisfied: joblib>=1.1.1 in c:\\users\\yusuf\\anaconda3\\lib\\site-packages (from scikit-learn->sentence-transformers) (1.2.0)\n",
      "Requirement already satisfied: threadpoolctl>=2.0.0 in c:\\users\\yusuf\\anaconda3\\lib\\site-packages (from scikit-learn->sentence-transformers) (2.2.0)\n",
      "Requirement already satisfied: MarkupSafe>=2.0 in c:\\users\\yusuf\\anaconda3\\lib\\site-packages (from jinja2->torch>=1.11.0->sentence-transformers) (2.1.1)\n",
      "Requirement already satisfied: charset-normalizer<4,>=2 in c:\\users\\yusuf\\anaconda3\\lib\\site-packages (from requests->huggingface-hub>=0.20.0->sentence-transformers) (2.0.4)\n",
      "Requirement already satisfied: idna<4,>=2.5 in c:\\users\\yusuf\\anaconda3\\lib\\site-packages (from requests->huggingface-hub>=0.20.0->sentence-transformers) (3.4)\n",
      "Requirement already satisfied: urllib3<3,>=1.21.1 in c:\\users\\yusuf\\anaconda3\\lib\\site-packages (from requests->huggingface-hub>=0.20.0->sentence-transformers) (1.26.16)\n",
      "Requirement already satisfied: certifi>=2017.4.17 in c:\\users\\yusuf\\anaconda3\\lib\\site-packages (from requests->huggingface-hub>=0.20.0->sentence-transformers) (2024.8.30)\n",
      "Using cached sentence_transformers-4.1.0-py3-none-any.whl (345 kB)\n",
      "Using cached transformers-4.51.3-py3-none-any.whl (10.4 MB)\n",
      "Installing collected packages: transformers, sentence-transformers\n",
      "Successfully installed sentence-transformers-4.1.0 transformers-4.51.3\n"
     ]
    }
   ],
   "source": [
    "!pip install -U sentence-transformers"
   ]
  },
  {
   "cell_type": "markdown",
   "id": "087d35f5",
   "metadata": {},
   "source": [
    "### 2. Working on RAG"
   ]
  },
  {
   "cell_type": "markdown",
   "id": "b922a2c9",
   "metadata": {},
   "source": [
    "Purpose of Rag is to get info from a document pass it to llm and get info from it.\n",
    "- Retrieval: Find relevant information from the given query\n",
    "- Augmented: We want to take the relevant information and augment our input to an llm with that relevant info\n",
    "- Generation: Take the first two steps and pass them to an llm for generative outputs."
   ]
  },
  {
   "cell_type": "code",
   "execution_count": 74,
   "id": "894ab388",
   "metadata": {},
   "outputs": [
    {
     "name": "stdout",
     "output_type": "stream",
     "text": [
      "2.6.0+cpu\n"
     ]
    }
   ],
   "source": [
    "import torch\n",
    "print(torch.__version__)"
   ]
  },
  {
   "cell_type": "code",
   "execution_count": 75,
   "id": "f08c9663",
   "metadata": {},
   "outputs": [
    {
     "name": "stdout",
     "output_type": "stream",
     "text": [
      "file exist\n"
     ]
    }
   ],
   "source": [
    "import os\n",
    "import requests\n",
    "\n",
    "pdf_path = \"human-nutrition-text.pdf\"\n",
    "\n",
    "if not os.path.exists(pdf_path):\n",
    "    print(\"This file does not exist so it will be downloaded\")\n",
    "    url = \"https://pressbooks.oer.hawaii.edu/humannutrition2/open/download?type=pdf\"\n",
    "    filename = pdf_path\n",
    "    response = requests.get(url)\n",
    "    if response.status_code == 200:\n",
    "        with open(filename, \"wb\") as file:\n",
    "            file.write(response.content)\n",
    "        print(\"The file has been downloaded and saved\")\n",
    "else:\n",
    "    print(\"file exist\")"
   ]
  },
  {
   "cell_type": "code",
   "execution_count": 76,
   "id": "bac147ed",
   "metadata": {},
   "outputs": [
    {
     "data": {
      "application/vnd.jupyter.widget-view+json": {
       "model_id": "9e677ac781ca4436b09532b5c0c73eff",
       "version_major": 2,
       "version_minor": 0
      },
      "text/plain": [
       "0it [00:00, ?it/s]"
      ]
     },
     "metadata": {},
     "output_type": "display_data"
    },
    {
     "data": {
      "text/plain": [
       "[{'page_number': -41,\n",
       "  'page_char_count': 29,\n",
       "  'page_word_count': 4,\n",
       "  'page_sentence_count': 1,\n",
       "  'page_token_count': 7.25,\n",
       "  'text': 'Human Nutrition: 2020 Edition'},\n",
       " {'page_number': -40,\n",
       "  'page_char_count': 0,\n",
       "  'page_word_count': 1,\n",
       "  'page_sentence_count': 1,\n",
       "  'page_token_count': 0.0,\n",
       "  'text': ''}]"
      ]
     },
     "execution_count": 76,
     "metadata": {},
     "output_type": "execute_result"
    }
   ],
   "source": [
    "import fitz\n",
    "from tqdm.auto import tqdm\n",
    "\n",
    "def text_formatter(text: str) -> str:\n",
    "    cleaned_text = text.replace(\"\\n\", \" \").strip()\n",
    "    return cleaned_text\n",
    "def open_and_read_pdf(pdf_path: str) -> list[dict]:\n",
    "    doc = fitz.open(pdf_path)\n",
    "    pages_and_text = []\n",
    "    for page_number, page in tqdm(enumerate(doc)):\n",
    "        text = page.get_text()\n",
    "        text = text_formatter(text=text)\n",
    "        pages_and_text.append({\"page_number\": page_number - 41, \n",
    "                               \"page_char_count\": len(text), \n",
    "                               \"page_word_count\": len(text.split(\" \")), \n",
    "                               \"page_sentence_count\": len(text.split(\". \")), \n",
    "                               \"page_token_count\": len(text) / 4,\n",
    "                               \"text\": text})\n",
    "    return pages_and_text\n",
    "pages_and_texts = open_and_read_pdf(pdf_path=pdf_path)\n",
    "pages_and_texts[:2]"
   ]
  },
  {
   "cell_type": "code",
   "execution_count": 77,
   "id": "91ad13f2",
   "metadata": {},
   "outputs": [
    {
     "data": {
      "text/plain": [
       "[{'page_number': 646,\n",
       "  'page_char_count': 1762,\n",
       "  'page_word_count': 360,\n",
       "  'page_sentence_count': 1,\n",
       "  'page_token_count': 440.5,\n",
       "  'text': 'Micronutrient Sources  Recommended  Intakes for  adults  Major functions  Deficiency  diseases and  symptoms  Groups a for defic Calcium  Yogurt,  cheese,  sardines,  milk,  orange  juice,  turnip  1,000 mg/day  Component of  mineralized bone,  provides  structure and  microarchitecture  Increased  risk of  osteoporosis  Postmen women,  who are  actosein or vegan Phosphorus  Salmon,  yogurt,  turkey,  chicken,  beef,  lentils  700 mg/day  Structural  component of  bones, cell  membrane, DNA  and RNA, and ATP  Bone loss,  weak bones  Older ad alcoholic Magnesium  Whole  grains and  legumes,  almonds,  cashews,  hazelnuts,  beets,  collards,  and kelp  420 mg/day  Component of  mineralized bone,  ATP synthesis and  utilization,  carbohydrate,  lipid,protein,  RNA, and DNA  synthesis  Tremor,  muscle  spasms, loss  of appetite,  nausea  Alcoholic individua kidney a gastroint disease  Sulfur  Protein  foods  None  specified  Structure of some  vitamins and  amino acids,  acid-base balance  None when  protein  needs are  met  None  Sodium  Processed  foods,  table salt,  pork,  chicken  < 2,300 mg/ day; ideally  1,500 mg/day  Major positive  extracellular ion,  nerve  transmission,  muscle  contraction, fluid  balance  Muscle  cramps  People  consumi much wa excessiv sweating with vom diarrhea Potassium  Fruits,  vegetables,  legumes,  whole  grains,  milk  4700 mg/day  Major positive  intracellular ion,  nerve  transmission,  muscle  contraction, fluid  balance  Irregular  heartbeat,  muscle  cramps  People  consumi high in  processe meats, th with vom diarrhea Chloride  Table salt,  processed  foods  <3600 mg/ day; ideally  2300 mg/day  Major negative  extracellular ion,  fluid balance  Unlikely  none  646  |  Summary of Major Minerals'},\n",
       " {'page_number': 36,\n",
       "  'page_char_count': 1533,\n",
       "  'page_word_count': 247,\n",
       "  'page_sentence_count': 23,\n",
       "  'page_token_count': 383.25,\n",
       "  'text': 'Experimental test. Coindet administered iodine tincture orally to  his patients with goiter.  Interpret results. Coindet’s iodine treatment was successful.  \\xa0 Hypothesis. French chemist Chatin proposed that the low iodine  content in food and water in certain areas far away from the ocean  was the primary cause of goiter, and renounced the theory that  goiter was the result of poor hygiene.  Experimental test. In the late 1860s the program, “The stamping- out of goiter,” started with people in several villages in France being  given iodine tablets.  Results. The program was effective and 80 percent of goitrous  children were cured.  \\xa0 Hypothesis. In 1918, Swiss doctor Bayard proposed iodizing salt as  a good way to treat areas endemic with goiter.  Experimental test. Iodized salt was transported by mules to a  small village at the base of the Matterhorn where more than 75  percent of school children were goitrous. It was given to families to  use for six months.  Results. The iodized salt was beneficial in treating goiter in this  remote population.  \\xa0 Experimental test. Physician David Marine conducted the first  experiment of treating goiter with iodized salt in America in Akron,  Ohio.2  of Nutrition,\\xa0138(11), 2060–63. http://jn.nutrition.org/ content/138/11/2060.full  2.\\xa0Carpenter, K.J. (2005). David Marine and the Problem of  Goiter. Journal of Nutrition,\\xa0135(4),  675–80.\\xa0http://jn.nutrition.org/content/135/4/ 675.full?sid=d06fdd35-566f -42a2-a3fd- efbe0736b7ba  36  |  Research and the Scientific Method'},\n",
       " {'page_number': 95,\n",
       "  'page_char_count': 294,\n",
       "  'page_word_count': 58,\n",
       "  'page_sentence_count': 3,\n",
       "  'page_token_count': 73.5,\n",
       "  'text': 'Nervous  System” by  William  Crochot /  CC BY-SA 4.0  The brain’s main fuel is glucose and only in extreme starvation will  it use anything else. For acute mental alertness and clear thinking,  glucose must be systematically delivered to the brain. This does not  Central Nervous System  |  95'}]"
      ]
     },
     "execution_count": 77,
     "metadata": {},
     "output_type": "execute_result"
    }
   ],
   "source": [
    "import random\n",
    "\n",
    "random.sample(pages_and_texts, k=3)"
   ]
  },
  {
   "cell_type": "code",
   "execution_count": 78,
   "id": "b151cfd7",
   "metadata": {},
   "outputs": [
    {
     "data": {
      "text/html": [
       "<div>\n",
       "<style scoped>\n",
       "    .dataframe tbody tr th:only-of-type {\n",
       "        vertical-align: middle;\n",
       "    }\n",
       "\n",
       "    .dataframe tbody tr th {\n",
       "        vertical-align: top;\n",
       "    }\n",
       "\n",
       "    .dataframe thead th {\n",
       "        text-align: right;\n",
       "    }\n",
       "</style>\n",
       "<table border=\"1\" class=\"dataframe\">\n",
       "  <thead>\n",
       "    <tr style=\"text-align: right;\">\n",
       "      <th></th>\n",
       "      <th>page_number</th>\n",
       "      <th>page_char_count</th>\n",
       "      <th>page_word_count</th>\n",
       "      <th>page_sentence_count</th>\n",
       "      <th>page_token_count</th>\n",
       "      <th>text</th>\n",
       "    </tr>\n",
       "  </thead>\n",
       "  <tbody>\n",
       "    <tr>\n",
       "      <th>0</th>\n",
       "      <td>-41</td>\n",
       "      <td>29</td>\n",
       "      <td>4</td>\n",
       "      <td>1</td>\n",
       "      <td>7.25</td>\n",
       "      <td>Human Nutrition: 2020 Edition</td>\n",
       "    </tr>\n",
       "    <tr>\n",
       "      <th>1</th>\n",
       "      <td>-40</td>\n",
       "      <td>0</td>\n",
       "      <td>1</td>\n",
       "      <td>1</td>\n",
       "      <td>0.00</td>\n",
       "      <td></td>\n",
       "    </tr>\n",
       "    <tr>\n",
       "      <th>2</th>\n",
       "      <td>-39</td>\n",
       "      <td>320</td>\n",
       "      <td>54</td>\n",
       "      <td>1</td>\n",
       "      <td>80.00</td>\n",
       "      <td>Human Nutrition: 2020  Edition  UNIVERSITY OF ...</td>\n",
       "    </tr>\n",
       "    <tr>\n",
       "      <th>3</th>\n",
       "      <td>-38</td>\n",
       "      <td>212</td>\n",
       "      <td>32</td>\n",
       "      <td>1</td>\n",
       "      <td>53.00</td>\n",
       "      <td>Human Nutrition: 2020 Edition by University of...</td>\n",
       "    </tr>\n",
       "    <tr>\n",
       "      <th>4</th>\n",
       "      <td>-37</td>\n",
       "      <td>797</td>\n",
       "      <td>145</td>\n",
       "      <td>2</td>\n",
       "      <td>199.25</td>\n",
       "      <td>Contents  Preface  University of Hawai‘i at Mā...</td>\n",
       "    </tr>\n",
       "  </tbody>\n",
       "</table>\n",
       "</div>"
      ],
      "text/plain": [
       "   page_number  page_char_count  page_word_count  page_sentence_count  \\\n",
       "0          -41               29                4                    1   \n",
       "1          -40                0                1                    1   \n",
       "2          -39              320               54                    1   \n",
       "3          -38              212               32                    1   \n",
       "4          -37              797              145                    2   \n",
       "\n",
       "   page_token_count                                               text  \n",
       "0              7.25                      Human Nutrition: 2020 Edition  \n",
       "1              0.00                                                     \n",
       "2             80.00  Human Nutrition: 2020  Edition  UNIVERSITY OF ...  \n",
       "3             53.00  Human Nutrition: 2020 Edition by University of...  \n",
       "4            199.25  Contents  Preface  University of Hawai‘i at Mā...  "
      ]
     },
     "execution_count": 78,
     "metadata": {},
     "output_type": "execute_result"
    }
   ],
   "source": [
    "import pandas as pd\n",
    "\n",
    "df = pd.DataFrame(pages_and_texts)\n",
    "df.head()"
   ]
  },
  {
   "cell_type": "code",
   "execution_count": 79,
   "id": "f3c32aa3",
   "metadata": {},
   "outputs": [
    {
     "data": {
      "text/html": [
       "<div>\n",
       "<style scoped>\n",
       "    .dataframe tbody tr th:only-of-type {\n",
       "        vertical-align: middle;\n",
       "    }\n",
       "\n",
       "    .dataframe tbody tr th {\n",
       "        vertical-align: top;\n",
       "    }\n",
       "\n",
       "    .dataframe thead th {\n",
       "        text-align: right;\n",
       "    }\n",
       "</style>\n",
       "<table border=\"1\" class=\"dataframe\">\n",
       "  <thead>\n",
       "    <tr style=\"text-align: right;\">\n",
       "      <th></th>\n",
       "      <th>page_number</th>\n",
       "      <th>page_char_count</th>\n",
       "      <th>page_word_count</th>\n",
       "      <th>page_sentence_count</th>\n",
       "      <th>page_token_count</th>\n",
       "    </tr>\n",
       "  </thead>\n",
       "  <tbody>\n",
       "    <tr>\n",
       "      <th>count</th>\n",
       "      <td>1208.00</td>\n",
       "      <td>1208.00</td>\n",
       "      <td>1208.00</td>\n",
       "      <td>1208.00</td>\n",
       "      <td>1208.00</td>\n",
       "    </tr>\n",
       "    <tr>\n",
       "      <th>mean</th>\n",
       "      <td>562.50</td>\n",
       "      <td>1148.00</td>\n",
       "      <td>198.30</td>\n",
       "      <td>9.97</td>\n",
       "      <td>287.00</td>\n",
       "    </tr>\n",
       "    <tr>\n",
       "      <th>std</th>\n",
       "      <td>348.86</td>\n",
       "      <td>560.38</td>\n",
       "      <td>95.76</td>\n",
       "      <td>6.19</td>\n",
       "      <td>140.10</td>\n",
       "    </tr>\n",
       "    <tr>\n",
       "      <th>min</th>\n",
       "      <td>-41.00</td>\n",
       "      <td>0.00</td>\n",
       "      <td>1.00</td>\n",
       "      <td>1.00</td>\n",
       "      <td>0.00</td>\n",
       "    </tr>\n",
       "    <tr>\n",
       "      <th>25%</th>\n",
       "      <td>260.75</td>\n",
       "      <td>762.00</td>\n",
       "      <td>134.00</td>\n",
       "      <td>4.00</td>\n",
       "      <td>190.50</td>\n",
       "    </tr>\n",
       "    <tr>\n",
       "      <th>50%</th>\n",
       "      <td>562.50</td>\n",
       "      <td>1231.50</td>\n",
       "      <td>214.50</td>\n",
       "      <td>10.00</td>\n",
       "      <td>307.88</td>\n",
       "    </tr>\n",
       "    <tr>\n",
       "      <th>75%</th>\n",
       "      <td>864.25</td>\n",
       "      <td>1603.50</td>\n",
       "      <td>271.00</td>\n",
       "      <td>14.00</td>\n",
       "      <td>400.88</td>\n",
       "    </tr>\n",
       "    <tr>\n",
       "      <th>max</th>\n",
       "      <td>1166.00</td>\n",
       "      <td>2308.00</td>\n",
       "      <td>429.00</td>\n",
       "      <td>32.00</td>\n",
       "      <td>577.00</td>\n",
       "    </tr>\n",
       "  </tbody>\n",
       "</table>\n",
       "</div>"
      ],
      "text/plain": [
       "       page_number  page_char_count  page_word_count  page_sentence_count  \\\n",
       "count      1208.00          1208.00          1208.00              1208.00   \n",
       "mean        562.50          1148.00           198.30                 9.97   \n",
       "std         348.86           560.38            95.76                 6.19   \n",
       "min         -41.00             0.00             1.00                 1.00   \n",
       "25%         260.75           762.00           134.00                 4.00   \n",
       "50%         562.50          1231.50           214.50                10.00   \n",
       "75%         864.25          1603.50           271.00                14.00   \n",
       "max        1166.00          2308.00           429.00                32.00   \n",
       "\n",
       "       page_token_count  \n",
       "count           1208.00  \n",
       "mean             287.00  \n",
       "std              140.10  \n",
       "min                0.00  \n",
       "25%              190.50  \n",
       "50%              307.88  \n",
       "75%              400.88  \n",
       "max              577.00  "
      ]
     },
     "execution_count": 79,
     "metadata": {},
     "output_type": "execute_result"
    }
   ],
   "source": [
    "df.describe().round(2)"
   ]
  },
  {
   "cell_type": "markdown",
   "id": "525743f4",
   "metadata": {},
   "source": [
    "Token count is important because \n",
    "1. Embedding models dont deal with infinite tokens\n",
    "2. same for LLMs\n",
    "\n",
    "For example an embedding model may have been trained to embed sequences of 384 tokens into numerical space.\n",
    "\n",
    "As for LLMs, they cannot accept infinite tokens in their context window(limit of how much length of a sentence you can ask to an LLM)."
   ]
  },
  {
   "cell_type": "markdown",
   "id": "28f6735e",
   "metadata": {},
   "source": [
    "### 3. Furthes text processing(splitting pages into sentences)\n",
    "\n",
    "if the pdf or our file gets very dense in the content per page we need to split it even further to sentences and it can be done in both ways\n",
    "\n",
    "1. you do the splitting with str functions of python (breaking when you spot a \". \").\n",
    "2. you can use a NLP library such as spaCy and nltk."
   ]
  },
  {
   "cell_type": "code",
   "execution_count": 80,
   "id": "ff2b6ea4",
   "metadata": {},
   "outputs": [
    {
     "data": {
      "text/plain": [
       "[This is a sentence., another one., I like elephants.]"
      ]
     },
     "execution_count": 80,
     "metadata": {},
     "output_type": "execute_result"
    }
   ],
   "source": [
    "from spacy.lang.en import English\n",
    "\n",
    "nlp = English()\n",
    "\n",
    "nlp.add_pipe(\"sentencizer\")\n",
    "\n",
    "doc = nlp(\"This is a sentence. another one. I like elephants.\")\n",
    "assert (len(list(doc.sents))) == 3\n",
    "\n",
    "list(doc.sents)"
   ]
  },
  {
   "cell_type": "code",
   "execution_count": 81,
   "id": "f3e6619a",
   "metadata": {},
   "outputs": [
    {
     "data": {
      "text/plain": [
       "{'page_number': 559,\n",
       " 'page_char_count': 863,\n",
       " 'page_word_count': 136,\n",
       " 'page_sentence_count': 8,\n",
       " 'page_token_count': 215.75,\n",
       " 'text': 'Image by  Allison  Calabrese /  CC BY 4.0  Korsakoff syndrome can cause similar symptoms as beriberi such  as confusion, loss of coordination, vision changes, hallucinations,  and may progress to coma and death. This condition is specific  to alcoholics as diets high in alcohol can cause thiamin deficiency.  Other individuals at risk include individuals who also consume diets  typically low in micronutrients such as those with eating disorders,  elderly, and individuals who have gone through gastric bypass  surgery.5  Figure 9.10 The Role of Thiamin  Figure 9.11 Beriberi, Thiamin Deficiency  5.\\xa0Fact Sheets for Health Professionals: Thiamin. National  Institute of Health, Office of Dietary Supplements.  \\xa0https://ods.od.nih.gov/factsheets/Thiamin- HealthProfessional/. Updated Feburary 11, 2016.  Accessed October 22, 2017.  Water-Soluble Vitamins  |  559'}"
      ]
     },
     "execution_count": 81,
     "metadata": {},
     "output_type": "execute_result"
    }
   ],
   "source": [
    "pages_and_texts[600]"
   ]
  },
  {
   "cell_type": "code",
   "execution_count": 82,
   "id": "96053593",
   "metadata": {},
   "outputs": [
    {
     "data": {
      "application/vnd.jupyter.widget-view+json": {
       "model_id": "b1d193fe81174d9db64e3b6f7c667b20",
       "version_major": 2,
       "version_minor": 0
      },
      "text/plain": [
       "  0%|          | 0/1208 [00:00<?, ?it/s]"
      ]
     },
     "metadata": {},
     "output_type": "display_data"
    }
   ],
   "source": [
    "for item in tqdm(pages_and_texts):\n",
    "    item[\"sentences\"] = list(nlp(item[\"text\"]).sents)\n",
    "\n",
    "    #Make sure all sentences are strings (the default type is a spacy datatype)\n",
    "    item[\"sentences\"] = [str(sentence) for sentence in item[\"sentences\"]]\n",
    "\n",
    "    # Count the sentences\n",
    "    item[\"page_sentence_count_spacy\"] = len(item[\"sentences\"])"
   ]
  },
  {
   "cell_type": "code",
   "execution_count": 83,
   "id": "c8f03434",
   "metadata": {},
   "outputs": [
    {
     "data": {
      "text/plain": [
       "[{'page_number': 23,\n",
       "  'page_char_count': 1808,\n",
       "  'page_word_count': 271,\n",
       "  'page_sentence_count': 16,\n",
       "  'page_token_count': 452.0,\n",
       "  'text': 'cigarettes can cause lung cancer, eleven other types of cancer,  heart disease, and several other disorders or diseases that markedly  decrease quality of life and increase mortality. In the United States,  smoking causes more than four hundred thousand deaths every  single year, which is far more than deaths associated with any other  lifestyle component3.  Also, according to the Centers for Disease Control and Prevention  (CDC), excessive alcohol intake causes an estimated seventy-five  thousand deaths per year4.\\xa0Staying away from excessive alcohol  intake lowers blood pressure, the risk from injury, heart disease,  stroke, liver problems, and some types of cancer. While excessive  alcohol consumption can be linked to poor health, consuming  alcohol in moderation has been found to promote health such as  reducing the risk for heart disease and Type 2 diabetes in some  people. The United States Department of Health and Human  Services (HHS) defines drinking in moderation as no more than one  drink a day for women and two drinks a day for men5.  Illicit and prescription drug abuse are associated with decreased  health and is a prominent problem in the United States. The health  3.\\xa0Centers for Disease Control and Prevention (2020, April  28). Tobacco and Mortality. \\xa0http://www.cdc.gov/ tobacco/data_statistics/fact_sheets/health_effects/ tobacco_related_mortality/Index.htm.  4.\\xa0Centers for Disease Control and Prevention (2020,  January 3). Underage Drinking. http://www.cdc.gov/ healthyyouth/alcoholdrug/  5.\\xa0U.S. Department of Health and Human Services and U.S.  Department of Agriculture (2015, December). 2015 – 2020  Dietary Guidelines for Americans. 8th  Edition.\\xa0https://health.gov/our-work/food-nutrition/ 2015-2020-dietary-guidelines/guidelines/  Lifestyles and Nutrition  |  23',\n",
       "  'sentences': ['cigarettes can cause lung cancer, eleven other types of cancer,  heart disease, and several other disorders or diseases that markedly  decrease quality of life and increase mortality.',\n",
       "   'In the United States,  smoking causes more than four hundred thousand deaths every  single year, which is far more than deaths associated with any other  lifestyle component3.',\n",
       "   ' Also, according to the Centers for Disease Control and Prevention  (CDC), excessive alcohol intake causes an estimated seventy-five  thousand deaths per year4.',\n",
       "   '\\xa0Staying away from excessive alcohol  intake lowers blood pressure, the risk from injury, heart disease,  stroke, liver problems, and some types of cancer.',\n",
       "   'While excessive  alcohol consumption can be linked to poor health, consuming  alcohol in moderation has been found to promote health such as  reducing the risk for heart disease and Type 2 diabetes in some  people.',\n",
       "   'The United States Department of Health and Human  Services (HHS) defines drinking in moderation as no more than one  drink a day for women and two drinks a day for men5.',\n",
       "   ' Illicit and prescription drug abuse are associated with decreased  health and is a prominent problem in the United States.',\n",
       "   'The health  3.',\n",
       "   '\\xa0Centers for Disease Control and Prevention (2020, April  28).',\n",
       "   'Tobacco and Mortality.',\n",
       "   '\\xa0http://www.cdc.gov/ tobacco/data_statistics/fact_sheets/health_effects/ tobacco_related_mortality/Index.htm.',\n",
       "   ' 4.',\n",
       "   '\\xa0Centers for Disease Control and Prevention (2020,  January 3).',\n",
       "   'Underage Drinking.',\n",
       "   'http://www.cdc.gov/ healthyyouth/alcoholdrug/  5.',\n",
       "   '\\xa0U.S. Department of Health and Human Services and U.S.  Department of Agriculture (2015, December).',\n",
       "   '2015 – 2020  Dietary Guidelines for Americans.',\n",
       "   '8th  Edition.',\n",
       "   '\\xa0https://health.gov/our-work/food-nutrition/ 2015-2020-dietary-guidelines/guidelines/  Lifestyles and Nutrition  |  23'],\n",
       "  'page_sentence_count_spacy': 19}]"
      ]
     },
     "execution_count": 83,
     "metadata": {},
     "output_type": "execute_result"
    }
   ],
   "source": [
    "random.sample(pages_and_texts, k=1)"
   ]
  },
  {
   "cell_type": "code",
   "execution_count": 84,
   "id": "1651eead",
   "metadata": {},
   "outputs": [
    {
     "data": {
      "text/html": [
       "<div>\n",
       "<style scoped>\n",
       "    .dataframe tbody tr th:only-of-type {\n",
       "        vertical-align: middle;\n",
       "    }\n",
       "\n",
       "    .dataframe tbody tr th {\n",
       "        vertical-align: top;\n",
       "    }\n",
       "\n",
       "    .dataframe thead th {\n",
       "        text-align: right;\n",
       "    }\n",
       "</style>\n",
       "<table border=\"1\" class=\"dataframe\">\n",
       "  <thead>\n",
       "    <tr style=\"text-align: right;\">\n",
       "      <th></th>\n",
       "      <th>page_number</th>\n",
       "      <th>page_char_count</th>\n",
       "      <th>page_word_count</th>\n",
       "      <th>page_sentence_count</th>\n",
       "      <th>page_token_count</th>\n",
       "      <th>page_sentence_count_spacy</th>\n",
       "    </tr>\n",
       "  </thead>\n",
       "  <tbody>\n",
       "    <tr>\n",
       "      <th>count</th>\n",
       "      <td>1208.00</td>\n",
       "      <td>1208.00</td>\n",
       "      <td>1208.00</td>\n",
       "      <td>1208.00</td>\n",
       "      <td>1208.00</td>\n",
       "      <td>1208.00</td>\n",
       "    </tr>\n",
       "    <tr>\n",
       "      <th>mean</th>\n",
       "      <td>562.50</td>\n",
       "      <td>1148.00</td>\n",
       "      <td>198.30</td>\n",
       "      <td>9.97</td>\n",
       "      <td>287.00</td>\n",
       "      <td>10.32</td>\n",
       "    </tr>\n",
       "    <tr>\n",
       "      <th>std</th>\n",
       "      <td>348.86</td>\n",
       "      <td>560.38</td>\n",
       "      <td>95.76</td>\n",
       "      <td>6.19</td>\n",
       "      <td>140.10</td>\n",
       "      <td>6.30</td>\n",
       "    </tr>\n",
       "    <tr>\n",
       "      <th>min</th>\n",
       "      <td>-41.00</td>\n",
       "      <td>0.00</td>\n",
       "      <td>1.00</td>\n",
       "      <td>1.00</td>\n",
       "      <td>0.00</td>\n",
       "      <td>0.00</td>\n",
       "    </tr>\n",
       "    <tr>\n",
       "      <th>25%</th>\n",
       "      <td>260.75</td>\n",
       "      <td>762.00</td>\n",
       "      <td>134.00</td>\n",
       "      <td>4.00</td>\n",
       "      <td>190.50</td>\n",
       "      <td>5.00</td>\n",
       "    </tr>\n",
       "    <tr>\n",
       "      <th>50%</th>\n",
       "      <td>562.50</td>\n",
       "      <td>1231.50</td>\n",
       "      <td>214.50</td>\n",
       "      <td>10.00</td>\n",
       "      <td>307.88</td>\n",
       "      <td>10.00</td>\n",
       "    </tr>\n",
       "    <tr>\n",
       "      <th>75%</th>\n",
       "      <td>864.25</td>\n",
       "      <td>1603.50</td>\n",
       "      <td>271.00</td>\n",
       "      <td>14.00</td>\n",
       "      <td>400.88</td>\n",
       "      <td>15.00</td>\n",
       "    </tr>\n",
       "    <tr>\n",
       "      <th>max</th>\n",
       "      <td>1166.00</td>\n",
       "      <td>2308.00</td>\n",
       "      <td>429.00</td>\n",
       "      <td>32.00</td>\n",
       "      <td>577.00</td>\n",
       "      <td>28.00</td>\n",
       "    </tr>\n",
       "  </tbody>\n",
       "</table>\n",
       "</div>"
      ],
      "text/plain": [
       "       page_number  page_char_count  page_word_count  page_sentence_count  \\\n",
       "count      1208.00          1208.00          1208.00              1208.00   \n",
       "mean        562.50          1148.00           198.30                 9.97   \n",
       "std         348.86           560.38            95.76                 6.19   \n",
       "min         -41.00             0.00             1.00                 1.00   \n",
       "25%         260.75           762.00           134.00                 4.00   \n",
       "50%         562.50          1231.50           214.50                10.00   \n",
       "75%         864.25          1603.50           271.00                14.00   \n",
       "max        1166.00          2308.00           429.00                32.00   \n",
       "\n",
       "       page_token_count  page_sentence_count_spacy  \n",
       "count           1208.00                    1208.00  \n",
       "mean             287.00                      10.32  \n",
       "std              140.10                       6.30  \n",
       "min                0.00                       0.00  \n",
       "25%              190.50                       5.00  \n",
       "50%              307.88                      10.00  \n",
       "75%              400.88                      15.00  \n",
       "max              577.00                      28.00  "
      ]
     },
     "execution_count": 84,
     "metadata": {},
     "output_type": "execute_result"
    }
   ],
   "source": [
    "df = pd.DataFrame(pages_and_texts)\n",
    "df.describe().round(2)"
   ]
  },
  {
   "cell_type": "markdown",
   "id": "3ef9cbc1",
   "metadata": {},
   "source": [
    "### Chunking our sentences together\n",
    "\n",
    "The concept of splitting larges pieces of text into smaller ones is often reffered to as text splitting or chunking\n",
    "\n",
    "There is no silver bullet way to d this \n",
    "\n",
    "This time groups will be of 10 sentences.\n",
    "\n",
    "There are frameworks for this such as langchain."
   ]
  },
  {
   "cell_type": "code",
   "execution_count": 85,
   "id": "ed41994b",
   "metadata": {},
   "outputs": [
    {
     "data": {
      "text/plain": [
       "[[0, 1, 2, 3, 4, 5, 6, 7, 8, 9],\n",
       " [10, 11, 12, 13, 14, 15, 16, 17, 18, 19],\n",
       " [20, 21, 22, 23, 24]]"
      ]
     },
     "execution_count": 85,
     "metadata": {},
     "output_type": "execute_result"
    }
   ],
   "source": [
    "# Define split size\n",
    "num_sentence_chunk_size = 10\n",
    "\n",
    "def split_list(input_list: list, slice_size: int=num_sentence_chunk_size) -> list[list[str]]:\n",
    "    return [input_list[i:i+slice_size] for i in range(0, len(input_list), slice_size)]\n",
    "\n",
    "test_list = list(range(25))\n",
    "split_list(test_list)"
   ]
  },
  {
   "cell_type": "code",
   "execution_count": 86,
   "id": "ec935d85",
   "metadata": {},
   "outputs": [
    {
     "data": {
      "application/vnd.jupyter.widget-view+json": {
       "model_id": "d8c247ad30ac4b1684d7543df915a5d4",
       "version_major": 2,
       "version_minor": 0
      },
      "text/plain": [
       "  0%|          | 0/1208 [00:00<?, ?it/s]"
      ]
     },
     "metadata": {},
     "output_type": "display_data"
    }
   ],
   "source": [
    "## now loop through the pdf file \n",
    "for item in tqdm(pages_and_texts):\n",
    "    item[\"sentence_chunks\"] = split_list(input_list=item[\"sentences\"], slice_size=num_sentence_chunk_size)\n",
    "    item[\"num_chunks\"] = len(item[\"sentence_chunks\"])"
   ]
  },
  {
   "cell_type": "code",
   "execution_count": 87,
   "id": "ab7bf96c",
   "metadata": {},
   "outputs": [
    {
     "data": {
      "text/plain": [
       "[{'page_number': 1062,\n",
       "  'page_char_count': 478,\n",
       "  'page_word_count': 78,\n",
       "  'page_sentence_count': 4,\n",
       "  'page_token_count': 119.5,\n",
       "  'text': 'recommended that users complete these activities using a  desktop or laptop computer and in Google Chrome.  \\xa0 An interactive or media element has been  excluded from this version of the text. You can  view it online here:  http://pressbooks.oer.hawaii.edu/ humannutrition2/?p=549  \\xa0 An interactive or media element has been  excluded from this version of the text. You can  view it online here:  http://pressbooks.oer.hawaii.edu/ humannutrition2/?p=549  1062  |  Comparing Diets',\n",
       "  'sentences': ['recommended that users complete these activities using a  desktop or laptop computer and in Google Chrome.',\n",
       "   ' \\xa0 An interactive or media element has been  excluded from this version of the text.',\n",
       "   'You can  view it online here:  http://pressbooks.oer.hawaii.edu/ humannutrition2/?p=549  \\xa0 An interactive or media element has been  excluded from this version of the text.',\n",
       "   'You can  view it online here:  http://pressbooks.oer.hawaii.edu/ humannutrition2/?p=549  1062  |  Comparing Diets'],\n",
       "  'page_sentence_count_spacy': 4,\n",
       "  'sentence_chunks': [['recommended that users complete these activities using a  desktop or laptop computer and in Google Chrome.',\n",
       "    ' \\xa0 An interactive or media element has been  excluded from this version of the text.',\n",
       "    'You can  view it online here:  http://pressbooks.oer.hawaii.edu/ humannutrition2/?p=549  \\xa0 An interactive or media element has been  excluded from this version of the text.',\n",
       "    'You can  view it online here:  http://pressbooks.oer.hawaii.edu/ humannutrition2/?p=549  1062  |  Comparing Diets']],\n",
       "  'num_chunks': 1}]"
      ]
     },
     "execution_count": 87,
     "metadata": {},
     "output_type": "execute_result"
    }
   ],
   "source": [
    "random.sample(pages_and_texts, k=1)"
   ]
  },
  {
   "cell_type": "code",
   "execution_count": 88,
   "id": "0f58f585",
   "metadata": {},
   "outputs": [
    {
     "data": {
      "text/html": [
       "<div>\n",
       "<style scoped>\n",
       "    .dataframe tbody tr th:only-of-type {\n",
       "        vertical-align: middle;\n",
       "    }\n",
       "\n",
       "    .dataframe tbody tr th {\n",
       "        vertical-align: top;\n",
       "    }\n",
       "\n",
       "    .dataframe thead th {\n",
       "        text-align: right;\n",
       "    }\n",
       "</style>\n",
       "<table border=\"1\" class=\"dataframe\">\n",
       "  <thead>\n",
       "    <tr style=\"text-align: right;\">\n",
       "      <th></th>\n",
       "      <th>page_number</th>\n",
       "      <th>page_char_count</th>\n",
       "      <th>page_word_count</th>\n",
       "      <th>page_sentence_count</th>\n",
       "      <th>page_token_count</th>\n",
       "      <th>page_sentence_count_spacy</th>\n",
       "      <th>num_chunks</th>\n",
       "    </tr>\n",
       "  </thead>\n",
       "  <tbody>\n",
       "    <tr>\n",
       "      <th>count</th>\n",
       "      <td>1208.00</td>\n",
       "      <td>1208.00</td>\n",
       "      <td>1208.00</td>\n",
       "      <td>1208.00</td>\n",
       "      <td>1208.00</td>\n",
       "      <td>1208.00</td>\n",
       "      <td>1208.00</td>\n",
       "    </tr>\n",
       "    <tr>\n",
       "      <th>mean</th>\n",
       "      <td>562.50</td>\n",
       "      <td>1148.00</td>\n",
       "      <td>198.30</td>\n",
       "      <td>9.97</td>\n",
       "      <td>287.00</td>\n",
       "      <td>10.32</td>\n",
       "      <td>1.53</td>\n",
       "    </tr>\n",
       "    <tr>\n",
       "      <th>std</th>\n",
       "      <td>348.86</td>\n",
       "      <td>560.38</td>\n",
       "      <td>95.76</td>\n",
       "      <td>6.19</td>\n",
       "      <td>140.10</td>\n",
       "      <td>6.30</td>\n",
       "      <td>0.64</td>\n",
       "    </tr>\n",
       "    <tr>\n",
       "      <th>min</th>\n",
       "      <td>-41.00</td>\n",
       "      <td>0.00</td>\n",
       "      <td>1.00</td>\n",
       "      <td>1.00</td>\n",
       "      <td>0.00</td>\n",
       "      <td>0.00</td>\n",
       "      <td>0.00</td>\n",
       "    </tr>\n",
       "    <tr>\n",
       "      <th>25%</th>\n",
       "      <td>260.75</td>\n",
       "      <td>762.00</td>\n",
       "      <td>134.00</td>\n",
       "      <td>4.00</td>\n",
       "      <td>190.50</td>\n",
       "      <td>5.00</td>\n",
       "      <td>1.00</td>\n",
       "    </tr>\n",
       "    <tr>\n",
       "      <th>50%</th>\n",
       "      <td>562.50</td>\n",
       "      <td>1231.50</td>\n",
       "      <td>214.50</td>\n",
       "      <td>10.00</td>\n",
       "      <td>307.88</td>\n",
       "      <td>10.00</td>\n",
       "      <td>1.00</td>\n",
       "    </tr>\n",
       "    <tr>\n",
       "      <th>75%</th>\n",
       "      <td>864.25</td>\n",
       "      <td>1603.50</td>\n",
       "      <td>271.00</td>\n",
       "      <td>14.00</td>\n",
       "      <td>400.88</td>\n",
       "      <td>15.00</td>\n",
       "      <td>2.00</td>\n",
       "    </tr>\n",
       "    <tr>\n",
       "      <th>max</th>\n",
       "      <td>1166.00</td>\n",
       "      <td>2308.00</td>\n",
       "      <td>429.00</td>\n",
       "      <td>32.00</td>\n",
       "      <td>577.00</td>\n",
       "      <td>28.00</td>\n",
       "      <td>3.00</td>\n",
       "    </tr>\n",
       "  </tbody>\n",
       "</table>\n",
       "</div>"
      ],
      "text/plain": [
       "       page_number  page_char_count  page_word_count  page_sentence_count  \\\n",
       "count      1208.00          1208.00          1208.00              1208.00   \n",
       "mean        562.50          1148.00           198.30                 9.97   \n",
       "std         348.86           560.38            95.76                 6.19   \n",
       "min         -41.00             0.00             1.00                 1.00   \n",
       "25%         260.75           762.00           134.00                 4.00   \n",
       "50%         562.50          1231.50           214.50                10.00   \n",
       "75%         864.25          1603.50           271.00                14.00   \n",
       "max        1166.00          2308.00           429.00                32.00   \n",
       "\n",
       "       page_token_count  page_sentence_count_spacy  num_chunks  \n",
       "count           1208.00                    1208.00     1208.00  \n",
       "mean             287.00                      10.32        1.53  \n",
       "std              140.10                       6.30        0.64  \n",
       "min                0.00                       0.00        0.00  \n",
       "25%              190.50                       5.00        1.00  \n",
       "50%              307.88                      10.00        1.00  \n",
       "75%              400.88                      15.00        2.00  \n",
       "max              577.00                      28.00        3.00  "
      ]
     },
     "execution_count": 88,
     "metadata": {},
     "output_type": "execute_result"
    }
   ],
   "source": [
    "df = pd.DataFrame(pages_and_texts)\n",
    "df.describe().round(2)"
   ]
  },
  {
   "cell_type": "markdown",
   "id": "e9112f45",
   "metadata": {},
   "source": [
    "Splitting each chunk into its own item.\n",
    "\n",
    "we'd like to embed each chunk of sentences to its own numerical representation.\n",
    "\n",
    "that'll give a good level of granularity."
   ]
  },
  {
   "cell_type": "code",
   "execution_count": 89,
   "id": "a7ad747c",
   "metadata": {},
   "outputs": [
    {
     "data": {
      "application/vnd.jupyter.widget-view+json": {
       "model_id": "834e2ee2ba2f47dda1f51694da7d026f",
       "version_major": 2,
       "version_minor": 0
      },
      "text/plain": [
       "  0%|          | 0/1208 [00:00<?, ?it/s]"
      ]
     },
     "metadata": {},
     "output_type": "display_data"
    },
    {
     "data": {
      "text/plain": [
       "1843"
      ]
     },
     "execution_count": 89,
     "metadata": {},
     "output_type": "execute_result"
    }
   ],
   "source": [
    "import re\n",
    "\n",
    "pages_and_chunks = []\n",
    "for item in tqdm(pages_and_texts):\n",
    "    for sentence_chunk in item[\"sentence_chunks\"]:\n",
    "        chunk_dict = {}\n",
    "        chunk_dict[\"page_number\"] = item[\"page_number\"]\n",
    "\n",
    "        #Join the sentences together into a paragraph like structure, aka join the list of sentences into one paragraph\n",
    "        joined_sentence_chunk = \"\".join(sentence_chunk).replace(\" \", \" \").strip()\n",
    "        joined_sentence_chunk = re.sub(r'\\.([A-Z])', r'. \\1', joined_sentence_chunk)\n",
    "\n",
    "        chunk_dict[\"sentence_chunk\"] = joined_sentence_chunk\n",
    "\n",
    "        chunk_dict[\"chunk_char_count\"] = len(joined_sentence_chunk)\n",
    "        chunk_dict[\"chunk_word_count\"] = len([word for word in joined_sentence_chunk.split(\" \")])\n",
    "        chunk_dict[\"chunk_token_count\"] = len(joined_sentence_chunk) / 4\n",
    "\n",
    "        pages_and_chunks.append(chunk_dict)\n",
    "len(pages_and_chunks)"
   ]
  },
  {
   "cell_type": "code",
   "execution_count": 90,
   "id": "f34c72bb",
   "metadata": {},
   "outputs": [
    {
     "data": {
      "text/plain": [
       "[{'page_number': 842,\n",
       "  'sentence_chunk': '8-12  months  Guide/ encourage  breastfeeding  mothers and  continue to  support  mothers who  choose to  breastfeeding  beyond 12  months. Formula-fed  infants take in  about 24  ounces. Amounts vary  based on  individual  nutrition  assessment. About 2-4  ounces  iron-fortified  infant  cereals;  other grains:  baby  crackers,  bread,  noodles,  corn, grits,  soft tortilla  pieces  About 4-6  ounces,  ground/ finely  chopped/ diced  About 4-6  ounces,  ground/ finely  chopped/ diced  About 2-4  ounces  meat,  poultry,  fish, eggs,  cheese,  yogurt, or  mashed  legumes; all  are  ground/ finely  chopped/ diced  Source:  Kleinman, R. E. G., Frank R. (Ed.). (2013). Pediatric nutrition, 7th  Edition. American Academy of Pediatrics.\\xa0 Holt, K., Woodridge, N. H., Story, M., & Sofka, D. (Eds.). (2011). Bright futures nutrition, 3rd Edition.',\n",
       "  'chunk_char_count': 846,\n",
       "  'chunk_word_count': 168,\n",
       "  'chunk_token_count': 211.5}]"
      ]
     },
     "execution_count": 90,
     "metadata": {},
     "output_type": "execute_result"
    }
   ],
   "source": [
    "random.sample(pages_and_chunks, k=1)"
   ]
  },
  {
   "cell_type": "code",
   "execution_count": 91,
   "id": "ffc53cb8",
   "metadata": {},
   "outputs": [
    {
     "data": {
      "text/html": [
       "<div>\n",
       "<style scoped>\n",
       "    .dataframe tbody tr th:only-of-type {\n",
       "        vertical-align: middle;\n",
       "    }\n",
       "\n",
       "    .dataframe tbody tr th {\n",
       "        vertical-align: top;\n",
       "    }\n",
       "\n",
       "    .dataframe thead th {\n",
       "        text-align: right;\n",
       "    }\n",
       "</style>\n",
       "<table border=\"1\" class=\"dataframe\">\n",
       "  <thead>\n",
       "    <tr style=\"text-align: right;\">\n",
       "      <th></th>\n",
       "      <th>page_number</th>\n",
       "      <th>chunk_char_count</th>\n",
       "      <th>chunk_word_count</th>\n",
       "      <th>chunk_token_count</th>\n",
       "    </tr>\n",
       "  </thead>\n",
       "  <tbody>\n",
       "    <tr>\n",
       "      <th>count</th>\n",
       "      <td>1843.00</td>\n",
       "      <td>1843.00</td>\n",
       "      <td>1843.00</td>\n",
       "      <td>1843.00</td>\n",
       "    </tr>\n",
       "    <tr>\n",
       "      <th>mean</th>\n",
       "      <td>583.38</td>\n",
       "      <td>750.01</td>\n",
       "      <td>127.90</td>\n",
       "      <td>187.50</td>\n",
       "    </tr>\n",
       "    <tr>\n",
       "      <th>std</th>\n",
       "      <td>347.79</td>\n",
       "      <td>455.70</td>\n",
       "      <td>79.99</td>\n",
       "      <td>113.93</td>\n",
       "    </tr>\n",
       "    <tr>\n",
       "      <th>min</th>\n",
       "      <td>-41.00</td>\n",
       "      <td>14.00</td>\n",
       "      <td>4.00</td>\n",
       "      <td>3.50</td>\n",
       "    </tr>\n",
       "    <tr>\n",
       "      <th>25%</th>\n",
       "      <td>280.50</td>\n",
       "      <td>321.50</td>\n",
       "      <td>51.00</td>\n",
       "      <td>80.38</td>\n",
       "    </tr>\n",
       "    <tr>\n",
       "      <th>50%</th>\n",
       "      <td>586.00</td>\n",
       "      <td>763.00</td>\n",
       "      <td>131.00</td>\n",
       "      <td>190.75</td>\n",
       "    </tr>\n",
       "    <tr>\n",
       "      <th>75%</th>\n",
       "      <td>890.00</td>\n",
       "      <td>1137.50</td>\n",
       "      <td>194.00</td>\n",
       "      <td>284.38</td>\n",
       "    </tr>\n",
       "    <tr>\n",
       "      <th>max</th>\n",
       "      <td>1166.00</td>\n",
       "      <td>1870.00</td>\n",
       "      <td>412.00</td>\n",
       "      <td>467.50</td>\n",
       "    </tr>\n",
       "  </tbody>\n",
       "</table>\n",
       "</div>"
      ],
      "text/plain": [
       "       page_number  chunk_char_count  chunk_word_count  chunk_token_count\n",
       "count      1843.00           1843.00           1843.00            1843.00\n",
       "mean        583.38            750.01            127.90             187.50\n",
       "std         347.79            455.70             79.99             113.93\n",
       "min         -41.00             14.00              4.00               3.50\n",
       "25%         280.50            321.50             51.00              80.38\n",
       "50%         586.00            763.00            131.00             190.75\n",
       "75%         890.00           1137.50            194.00             284.38\n",
       "max        1166.00           1870.00            412.00             467.50"
      ]
     },
     "execution_count": 91,
     "metadata": {},
     "output_type": "execute_result"
    }
   ],
   "source": [
    "df = pd.DataFrame(pages_and_chunks)\n",
    "df.describe().round(2)"
   ]
  },
  {
   "cell_type": "code",
   "execution_count": 92,
   "id": "3cc338bd",
   "metadata": {},
   "outputs": [
    {
     "name": "stdout",
     "output_type": "stream",
     "text": [
      "Chunk token count: 25.0 | Text: http://pressbooks.oer.hawaii.edu/ humannutrition2/?p=225  330  |  Digestion and Absorption of Lipids\n",
      "Chunk token count: 17.25 | Text: Table 4.6 Sweeteners  Carbohydrates and Personal Diet Choices  |  281\n",
      "Chunk token count: 28.5 | Text: Image by  Allison  Calabrese /  CC BY 4.0  Figure 9.13 Niacin Deficiency, Pellagra  566  |  Water-Soluble Vitamins\n",
      "Chunk token count: 11.5 | Text: Accessed October 5, 2017. Introduction  |  433\n",
      "Chunk token count: 6.0 | Text: 962  |  Sports Nutrition\n"
     ]
    }
   ],
   "source": [
    "min_token_len = 30\n",
    "for row in df[df[\"chunk_token_count\"] <= min_token_len].sample(5).iterrows():\n",
    "    print(f\"Chunk token count: {row[1]['chunk_token_count']} | Text: {row[1]['sentence_chunk']}\")"
   ]
  },
  {
   "cell_type": "code",
   "execution_count": 93,
   "id": "d5b20a62",
   "metadata": {},
   "outputs": [
    {
     "data": {
      "text/plain": [
       "[{'page_number': -39,\n",
       "  'sentence_chunk': 'Human Nutrition: 2020  Edition  UNIVERSITY OF HAWAI‘I AT MĀNOA  FOOD SCIENCE AND HUMAN  NUTRITION PROGRAM  ALAN TITCHENAL, SKYLAR HARA,  NOEMI ARCEO CAACBAY, WILLIAM  MEINKE-LAU, YA-YUN YANG, MARIE  KAINOA FIALKOWSKI REVILLA,  JENNIFER DRAPER, GEMADY  LANGFELDER, CHERYL GIBBY, CHYNA  NICOLE CHUN, AND ALLISON  CALABRESE',\n",
       "  'chunk_char_count': 320,\n",
       "  'chunk_word_count': 54,\n",
       "  'chunk_token_count': 80.0},\n",
       " {'page_number': -38,\n",
       "  'sentence_chunk': 'Human Nutrition: 2020 Edition by University of Hawai‘i at Mānoa Food Science and  Human Nutrition Program is licensed under a Creative Commons Attribution 4.0  International License, except where otherwise noted.',\n",
       "  'chunk_char_count': 212,\n",
       "  'chunk_word_count': 32,\n",
       "  'chunk_token_count': 53.0}]"
      ]
     },
     "execution_count": 93,
     "metadata": {},
     "output_type": "execute_result"
    }
   ],
   "source": [
    "pages_and_chunks_over_min_token_len = df[df[\"chunk_token_count\"] > min_token_len].to_dict(orient=\"records\")\n",
    "pages_and_chunks_over_min_token_len[:2]"
   ]
  },
  {
   "cell_type": "code",
   "execution_count": 94,
   "id": "dfa18199",
   "metadata": {},
   "outputs": [
    {
     "data": {
      "text/plain": [
       "[{'page_number': 785,\n",
       "  'sentence_chunk': 'Image by  Marie  Kainoa  Fialkowski  Revilla / CC  BY 4.0  Pregnancy  UNIVERSITY OF HAWAI‘I AT MĀNOA FOOD SCIENCE AND HUMAN  NUTRITION PROGRAM AND HUMAN NUTRITION PROGRAM  It is crucial to consume healthy foods at every phase of life,  beginning in the womb. Good nutrition is vital for any pregnancy  and not only helps an expectant mother remain healthy, but also  impacts the development of the fetus and ensures that the baby  thrives in infancy and beyond. During pregnancy, a woman’s needs  Pregnancy  |  785',\n",
       "  'chunk_char_count': 514,\n",
       "  'chunk_word_count': 100,\n",
       "  'chunk_token_count': 128.5}]"
      ]
     },
     "execution_count": 94,
     "metadata": {},
     "output_type": "execute_result"
    }
   ],
   "source": [
    "random.sample(pages_and_chunks_over_min_token_len, k=1)"
   ]
  },
  {
   "cell_type": "markdown",
   "id": "8d3d5ad2",
   "metadata": {},
   "source": [
    "### 3. Embedding the words so that they can be processed.\n",
    "\n",
    "Embeddings are a broad but powerful concept.\n",
    "\n",
    "because machines understand numbers.\n",
    "\n",
    "So text chunks needs to be transformed to numbers which is embedding them.\n",
    "\n",
    "The best part about embeddings is that they are a learned representation."
   ]
  },
  {
   "cell_type": "markdown",
   "id": "76cab26c",
   "metadata": {},
   "source": [
    "### Troubleshooting and fixing sentence-transformers installation"
   ]
  },
  {
   "cell_type": "markdown",
   "id": "529b1ecb",
   "metadata": {},
   "source": [
    "### 4. Creating Embeddings\n",
    "\n",
    "Now we'll create embeddings of our text chunks using the SentenceTransformer model. This will convert our text into numerical vectors that represent the semantic meaning of the text."
   ]
  },
  {
   "cell_type": "code",
   "execution_count": 95,
   "id": "4363d8a6",
   "metadata": {},
   "outputs": [
    {
     "name": "stdout",
     "output_type": "stream",
     "text": [
      "Successfully loaded model: all-MiniLM-L6-v2\n"
     ]
    }
   ],
   "source": [
    "# Load a pre-trained sentence transformer model\n",
    "# Using a smaller model that works well and is faster to load\n",
    "from sentence_transformers import SentenceTransformer\n",
    "\n",
    "model_name = 'all-MiniLM-L6-v2'  # Smaller, faster model good for initial tests\n",
    "try:\n",
    "    model = SentenceTransformer(model_name)\n",
    "    print(f\"Successfully loaded model: {model_name}\")\n",
    "except Exception as e:\n",
    "    print(f\"Error loading model: {e}\")"
   ]
  },
  {
   "cell_type": "code",
   "execution_count": 96,
   "id": "a52a2ff5",
   "metadata": {},
   "outputs": [
    {
     "name": "stdout",
     "output_type": "stream",
     "text": [
      "Sample text: Image by  Serge Esteve  on  unsplash.co m / CC0  Alcohol Metabolism  UNIVERSITY OF HAWAI‘I AT MĀNOA ...\n",
      "Embedding shape: (384,)\n",
      "First few values: [0.10536051 0.00053247 0.01034493 0.05849157 0.02410465]\n",
      "Embedding successfully created!\n"
     ]
    }
   ],
   "source": [
    "# Create a sample embedding to test functionality\n",
    "try:\n",
    "    # Take a sample chunk to embed\n",
    "    sample_chunk = random.choice(pages_and_chunks_over_min_token_len)[\"sentence_chunk\"]\n",
    "    print(f\"Sample text: {sample_chunk[:100]}...\")\n",
    "    \n",
    "    # Create the embedding\n",
    "    embedding = model.encode(sample_chunk)\n",
    "    \n",
    "    print(f\"Embedding shape: {embedding.shape}\")\n",
    "    print(f\"First few values: {embedding[:5]}\")\n",
    "    print(\"Embedding successfully created!\")\n",
    "except Exception as e:\n",
    "    print(f\"Error creating embedding: {e}\")"
   ]
  },
  {
   "cell_type": "code",
   "execution_count": 97,
   "id": "ef2c8b2b",
   "metadata": {},
   "outputs": [
    {
     "data": {
      "application/vnd.jupyter.widget-view+json": {
       "model_id": "1843fc1b1c1640289c009cd2d73c71b4",
       "version_major": 2,
       "version_minor": 0
      },
      "text/plain": [
       "  0%|          | 0/16 [00:00<?, ?it/s]"
      ]
     },
     "metadata": {},
     "output_type": "display_data"
    },
    {
     "name": "stdout",
     "output_type": "stream",
     "text": [
      "Created 500 embeddings\n"
     ]
    }
   ],
   "source": [
    "# Process all chunks with a limit to avoid memory issues\n",
    "from tqdm.auto import tqdm\n",
    "\n",
    "# Limit number of chunks to process to avoid memory issues (especially in notebooks)\n",
    "max_chunks = 500  # Adjust based on your available memory\n",
    "chunks_to_process = pages_and_chunks_over_min_token_len[:max_chunks]\n",
    "\n",
    "# Process in batches for efficiency\n",
    "batch_size = 32\n",
    "all_embeddings = []\n",
    "all_texts = []\n",
    "\n",
    "for i in tqdm(range(0, len(chunks_to_process), batch_size)):\n",
    "    batch = chunks_to_process[i:i+batch_size]\n",
    "    texts = [item[\"sentence_chunk\"] for item in batch]\n",
    "    embeddings = model.encode(texts)\n",
    "    \n",
    "    all_embeddings.extend(embeddings)\n",
    "    all_texts.extend(texts)\n",
    "    \n",
    "print(f\"Created {len(all_embeddings)} embeddings\")"
   ]
  },
  {
   "cell_type": "markdown",
   "id": "0aca6354",
   "metadata": {},
   "source": [
    "### Diagnosing sentence-transformers import issue"
   ]
  },
  {
   "cell_type": "code",
   "execution_count": 98,
   "id": "ec3842d9",
   "metadata": {},
   "outputs": [
    {
     "name": "stdout",
     "output_type": "stream",
     "text": [
      "Python path:\n",
      "  c:\\Users\\yusuf\\OneDrive\\Desktop\\Rag_1\n",
      "  c:\\Users\\yusuf\\anaconda3\\python311.zip\n",
      "  c:\\Users\\yusuf\\anaconda3\\DLLs\n",
      "  c:\\Users\\yusuf\\anaconda3\\Lib\n",
      "  c:\\Users\\yusuf\\anaconda3\n",
      "  \n",
      "  c:\\Users\\yusuf\\anaconda3\\Lib\\site-packages\n",
      "  c:\\Users\\yusuf\\anaconda3\\Lib\\site-packages\\win32\n",
      "  c:\\Users\\yusuf\\anaconda3\\Lib\\site-packages\\win32\\lib\n",
      "  c:\\Users\\yusuf\\anaconda3\\Lib\\site-packages\\Pythonwin\n",
      "  c:\\Users\\yusuf\\anaconda3\\Lib\\site-packages\\setuptools\\_vendor\n",
      "\n",
      "Success! sentence_transformers is installed. Version: 4.1.0\n"
     ]
    }
   ],
   "source": [
    "# Check if sentence_transformers is properly installed\n",
    "import sys\n",
    "import subprocess\n",
    "\n",
    "# Print Python path to see where it's looking for packages\n",
    "print(\"Python path:\")\n",
    "for path in sys.path:\n",
    "    print(f\"  {path}\")\n",
    "\n",
    "# Check if the package is installed\n",
    "try:\n",
    "    import sentence_transformers\n",
    "    print(f\"\\nSuccess! sentence_transformers is installed. Version: {sentence_transformers.__version__}\")\n",
    "except ImportError as e:\n",
    "    print(f\"\\nError importing sentence_transformers: {e}\")\n",
    "    print(\"\\nAttempting to show installed packages with 'transformer' in the name:\")\n",
    "    result = subprocess.run([sys.executable, '-m', 'pip', 'list'], capture_output=True, text=True)\n",
    "    packages = result.stdout.split('\\n')\n",
    "    for package in packages:\n",
    "        if 'transform' in package.lower():\n",
    "            print(f\"  {package}\")"
   ]
  },
  {
   "cell_type": "code",
   "execution_count": 99,
   "id": "e3f30ef4",
   "metadata": {},
   "outputs": [
    {
     "name": "stdout",
     "output_type": "stream",
     "text": [
      "Sentence: The Sentence Transformer library provides an easy way to create embeddings.\n",
      "Embedding shape: (384,)\n",
      "First 5 values: [-0.05602096 -0.07833057  0.02831554  0.02554733  0.03537979]\n",
      "\n",
      "Sentence: Sentences can be embedded one by one or in a list.\n",
      "Embedding shape: (384,)\n",
      "First 5 values: [0.02363924 0.0480043  0.02693563 0.07635804 0.07449612]\n",
      "\n",
      "Sentence: I like horses.\n",
      "Embedding shape: (384,)\n",
      "First 5 values: [-0.00970496 -0.01501985  0.07329442  0.02747012 -0.0608387 ]\n",
      "\n"
     ]
    }
   ],
   "source": [
    "from sentence_transformers import SentenceTransformer\n",
    "\n",
    "model_name = \"all-MiniLM-L6-v2\"\n",
    "embedding_model = SentenceTransformer(model_name)\n",
    "\n",
    "sentences = [\"The Sentence Transformer library provides an easy way to create embeddings.\",\n",
    "             \"Sentences can be embedded one by one or in a list.\",\n",
    "             \"I like horses.\"]\n",
    "\n",
    "# Encode the sentences to get embeddings\n",
    "embeddings = embedding_model.encode(sentences)\n",
    "\n",
    "# Create a dictionary to map sentences to their embeddings\n",
    "embeddings_dict = {sentence: embedding for sentence, embedding in zip(sentences, embeddings)}\n",
    "\n",
    "# Print the results\n",
    "for sentence, embedding in embeddings_dict.items():\n",
    "    print(f\"Sentence: {sentence}\")\n",
    "    print(f\"Embedding shape: {embedding.shape}\")\n",
    "    print(f\"First 5 values: {embedding[:5]}\")\n",
    "    print(\"\")"
   ]
  },
  {
   "cell_type": "code",
   "execution_count": 100,
   "id": "1d4298ae",
   "metadata": {},
   "outputs": [
    {
     "data": {
      "text/plain": [
       "array([-5.86742572e-02, -3.17230858e-02,  2.67218631e-02,  4.13622744e-02,\n",
       "        1.29331946e-02, -4.21292009e-03,  7.01419935e-02,  8.66901875e-03,\n",
       "        5.07154427e-02,  5.00130057e-02, -5.23353182e-03, -8.76538530e-02,\n",
       "       -2.08352655e-02,  5.25333956e-02,  4.59020622e-02, -1.18042957e-02,\n",
       "        3.97051014e-02, -5.26043773e-02,  3.19212452e-02, -7.02786669e-02,\n",
       "       -4.60206494e-02,  3.70812118e-02,  1.27304252e-02, -8.83939117e-03,\n",
       "       -6.33294359e-02, -3.86516936e-02,  3.83304432e-02,  3.50363255e-02,\n",
       "       -1.51723120e-02, -6.75250068e-02, -7.85052925e-02, -2.38115266e-02,\n",
       "        2.90090987e-03,  8.94242711e-03, -2.42661815e-02, -1.41276009e-02,\n",
       "        6.91700950e-02, -8.79361480e-02,  9.68360454e-02,  2.62025483e-02,\n",
       "       -7.35361408e-03, -3.27815823e-02,  9.09081921e-02, -1.18523398e-02,\n",
       "       -2.55947057e-02,  4.20953408e-02, -4.91489433e-02, -1.75817180e-02,\n",
       "        9.17465389e-02,  6.83824532e-03,  4.04987447e-02, -1.27315596e-02,\n",
       "       -3.08796298e-02,  1.85059686e-03,  2.60494575e-02, -6.89788088e-02,\n",
       "       -1.50491418e-02,  9.39579494e-03,  1.63141415e-02, -5.35661727e-02,\n",
       "        3.14383768e-02,  1.28588807e-02,  5.68227023e-02,  6.90625161e-02,\n",
       "       -8.50206800e-03, -2.53927168e-02, -6.31904379e-02,  1.29735768e-02,\n",
       "       -7.58200437e-02,  1.33372843e-03, -3.43895741e-02,  6.35778112e-03,\n",
       "        1.59059688e-02,  3.91958654e-02, -7.63143972e-02,  1.01700567e-01,\n",
       "        6.75128847e-02, -1.48766600e-02,  9.79822129e-02,  2.80234441e-02,\n",
       "       -7.77050573e-03, -8.46519992e-02, -4.51056398e-02, -2.31838636e-02,\n",
       "        6.66521862e-02, -1.76656302e-02,  1.00816451e-02,  1.75779860e-03,\n",
       "       -9.90138426e-02, -3.57511006e-02,  2.09009387e-02, -6.16015866e-02,\n",
       "       -4.19836305e-02, -2.29321532e-02,  1.65053345e-02, -6.42813276e-03,\n",
       "        6.72267005e-03, -2.91640647e-02, -5.42068891e-02,  3.89515907e-02,\n",
       "       -2.41462085e-02,  1.36933289e-02, -3.12128291e-02, -1.90128163e-02,\n",
       "        6.22942261e-02,  4.33504209e-02, -1.11171626e-01,  8.06069095e-03,\n",
       "        4.45235670e-02, -1.55245028e-02, -2.64498107e-02,  4.52616028e-02,\n",
       "       -2.44817305e-02,  8.26689750e-02,  3.38308960e-02,  6.74247742e-02,\n",
       "       -7.04325289e-02, -5.79027049e-02, -4.83505242e-02, -1.95697676e-02,\n",
       "        1.64607503e-02,  6.38977364e-02,  1.27741899e-02, -1.14265746e-02,\n",
       "        1.48645584e-02, -3.03738602e-02,  7.39448890e-02, -5.20607016e-33,\n",
       "       -3.22384536e-02, -1.12516671e-01, -1.38407853e-02, -1.27302974e-01,\n",
       "        3.17771249e-02,  1.40423505e-02, -5.42124026e-02,  6.72943145e-02,\n",
       "       -4.35118340e-02, -1.12536866e-02, -7.14758644e-03,  2.07804833e-02,\n",
       "       -1.76113117e-02, -3.46240476e-02, -4.35358845e-02, -1.00277476e-02,\n",
       "        3.72274630e-02, -4.20871153e-02, -1.73063353e-02, -1.87136270e-02,\n",
       "       -2.38408092e-02,  1.19365983e-01,  3.20981033e-02,  4.58695851e-02,\n",
       "       -1.22833457e-02, -8.39978606e-02,  3.80510800e-02, -9.39860716e-02,\n",
       "       -3.85756381e-02,  5.78814633e-02,  1.75089817e-02, -1.00211643e-01,\n",
       "       -4.17624302e-02, -4.23534252e-02, -4.46883962e-02, -1.83573201e-01,\n",
       "       -2.85211839e-02, -1.21728957e-01, -3.28519531e-02,  6.13929331e-02,\n",
       "        1.02191627e-01, -2.82508638e-02,  5.50056808e-02,  3.89006957e-02,\n",
       "        3.45383249e-02,  6.41768426e-02,  1.92113705e-02,  3.89078893e-02,\n",
       "       -7.60043189e-02, -7.19921365e-02, -5.57544082e-02,  7.15302117e-03,\n",
       "        1.53583270e-02,  3.78136076e-02,  3.70881781e-02,  8.03987030e-03,\n",
       "        6.21937849e-02, -2.11126059e-02, -6.71827868e-02, -2.72743367e-02,\n",
       "       -2.64263414e-02,  5.66789061e-02,  3.16458941e-02, -8.77881609e-03,\n",
       "        1.10388249e-01,  5.92338890e-02, -4.80230674e-02,  1.13725737e-02,\n",
       "       -1.74670666e-02,  2.83226036e-02,  2.07531755e-03, -2.92085204e-02,\n",
       "       -1.32869612e-02, -1.26851246e-01, -8.07808936e-02, -1.74854342e-02,\n",
       "        6.59644380e-02, -2.18516029e-03, -9.84435529e-02, -2.62897685e-02,\n",
       "       -5.83572220e-03,  6.29748553e-02,  4.86465804e-02, -1.25332195e-02,\n",
       "       -2.46734973e-02,  8.17405507e-02, -2.32854914e-02, -1.39552370e-01,\n",
       "       -3.12630236e-02, -4.40345518e-02,  1.80815123e-02, -2.17298828e-02,\n",
       "        4.41668257e-02, -5.63294031e-02, -6.02786290e-03,  3.19237964e-33,\n",
       "       -1.52771389e-02, -2.41595078e-02,  9.42387357e-02,  1.55451968e-02,\n",
       "        2.86436025e-02, -8.59420821e-02,  2.37862393e-02,  5.89263216e-02,\n",
       "       -5.60684092e-02,  4.20816578e-02, -3.78332734e-02, -1.10416710e-02,\n",
       "       -1.75729915e-02, -1.24469958e-02,  6.61341548e-02,  6.91565648e-02,\n",
       "       -3.69945122e-03, -1.30050788e-02,  2.94715296e-02, -6.12108447e-02,\n",
       "       -7.84449279e-02,  5.33058867e-03, -3.17646638e-02,  1.36059262e-02,\n",
       "        3.01589593e-02,  4.20098677e-02, -1.00884512e-01, -4.13748920e-02,\n",
       "        5.33186533e-02, -8.82939622e-02, -9.11819225e-04, -8.25452805e-03,\n",
       "       -7.47550791e-03, -1.01079918e-01,  8.39219987e-03,  3.69098932e-02,\n",
       "       -2.21311133e-02, -5.94374500e-02,  2.90133543e-02,  5.44169918e-02,\n",
       "        6.08166903e-02,  4.07668203e-02, -1.11112026e-02,  5.67885526e-02,\n",
       "        1.01945046e-02,  1.55796269e-02, -6.37716055e-02,  2.67043766e-02,\n",
       "       -1.35886613e-02,  5.59896119e-02, -2.58801412e-03,  2.81612296e-02,\n",
       "        6.61071837e-02, -1.11173794e-01,  8.63532722e-02,  6.20220788e-02,\n",
       "        1.02874316e-01, -1.72054209e-02,  4.92113009e-02,  2.09036414e-02,\n",
       "        9.30267572e-03,  4.11178730e-02,  1.20168887e-02,  1.03503726e-01,\n",
       "       -1.32931909e-02,  1.25070121e-02, -4.98213656e-02, -3.93489562e-02,\n",
       "       -9.73767135e-03, -4.78464589e-02, -3.12736854e-02,  3.11732385e-02,\n",
       "       -9.98193771e-02, -9.74175986e-03,  5.32471687e-02,  1.36322407e-02,\n",
       "        7.05128908e-02,  6.81834994e-03,  7.87710845e-02,  5.11962511e-02,\n",
       "        2.74756365e-02,  1.16393017e-02, -3.51145631e-03,  7.87078515e-02,\n",
       "        6.29932731e-02,  7.28428736e-03, -3.22923660e-02,  6.44275546e-02,\n",
       "        6.33675233e-02,  2.35669669e-02, -1.72469337e-02,  2.18141992e-02,\n",
       "       -5.79254120e-04, -1.05648600e-02,  6.01466186e-02, -1.54788609e-08,\n",
       "       -1.04471333e-02,  1.76299235e-03,  5.62050156e-02, -4.26145755e-02,\n",
       "        9.81981233e-02, -4.42790650e-02,  2.45301588e-03, -7.91264027e-02,\n",
       "       -2.48991717e-02,  4.50302847e-02,  3.31909359e-02,  9.00490656e-02,\n",
       "       -5.09182699e-02,  6.26117736e-02,  7.00753033e-02, -2.67367046e-02,\n",
       "        1.01908594e-01, -1.16977580e-01,  1.29686967e-02,  8.21860060e-02,\n",
       "       -5.73585555e-02, -2.35223882e-02, -3.59694250e-02, -7.04891309e-02,\n",
       "       -3.20978314e-02, -9.39655900e-02, -6.00622334e-02,  2.05942243e-02,\n",
       "        7.78145865e-02,  6.49022311e-02, -1.93496887e-02,  4.84269485e-02,\n",
       "        1.01572983e-02,  4.07441892e-02,  2.92276088e-02,  3.79972719e-02,\n",
       "        1.75524931e-02, -3.25248428e-02,  7.58007616e-02, -5.20997606e-02,\n",
       "        4.72543351e-02,  1.52494535e-02, -9.62127093e-03,  4.41993261e-03,\n",
       "       -6.13283813e-02,  2.52209511e-02,  5.60871661e-02, -7.50825480e-02,\n",
       "       -2.95106936e-02,  2.26016622e-03, -7.74438679e-02, -1.98587030e-02,\n",
       "        3.64830457e-02,  7.20786601e-02,  2.79204287e-02, -4.08203602e-02,\n",
       "       -7.98144639e-02, -4.62148041e-02,  1.67319942e-02,  2.93621086e-02,\n",
       "        4.76095155e-02,  7.63525292e-02,  5.12680002e-02,  2.91711949e-02],\n",
       "      dtype=float32)"
      ]
     },
     "execution_count": 100,
     "metadata": {},
     "output_type": "execute_result"
    }
   ],
   "source": [
    "embedding = model.encode(\"My favourite animal is the cow\")\n",
    "embedding"
   ]
  },
  {
   "cell_type": "code",
   "execution_count": 101,
   "id": "bcb26547",
   "metadata": {},
   "outputs": [
    {
     "data": {
      "application/vnd.jupyter.widget-view+json": {
       "model_id": "a72f8ee653c2474fa6dcb85a01d3a787",
       "version_major": 2,
       "version_minor": 0
      },
      "text/plain": [
       "  0%|          | 0/1685 [00:00<?, ?it/s]"
      ]
     },
     "metadata": {},
     "output_type": "display_data"
    },
    {
     "name": "stdout",
     "output_type": "stream",
     "text": [
      "CPU times: total: 8min 45s\n",
      "Wall time: 2min 22s\n"
     ]
    }
   ],
   "source": [
    "%%time\n",
    "\n",
    "embedding_model.to(\"cpu\")\n",
    "\n",
    "for item in tqdm(pages_and_chunks_over_min_token_len):\n",
    "    item[\"embedding\"] = embedding_model.encode(item[\"sentence_chunk\"])"
   ]
  },
  {
   "cell_type": "code",
   "execution_count": 102,
   "id": "10c4f0b1",
   "metadata": {},
   "outputs": [
    {
     "name": "stdout",
     "output_type": "stream",
     "text": [
      "CPU times: total: 0 ns\n",
      "Wall time: 1.02 ms\n"
     ]
    },
    {
     "data": {
      "text/plain": [
       "'Personal Choices  Carbohydrates are in most foods so you have a great variety of  choices with which to meet the carbohydrates recommendations  for a healthy diet. The 2010 Dietary Guidelines recommends eating  more unrefined carbohydrates and more fiber, and reducing  consumption of foods that are high in added sugars. To accomplish  these recommendations use some or all of the following  suggestions:  • Get more daily carbohydrate servings from whole grains by  eating a whole-grain cereal for breakfast, using whole-grain  bread to make a sandwich for lunch, and eating a serving of  beans and/or nuts with dinner. • Make sure to get at least three servings (or more) of all the  grains you eat as whole grains every day. A serving of whole  grains is equal to one slice of whole-wheat bread, one ounce of  whole-grain cereal, and one-half cup of cooked cereal, brown  rice, or whole-wheat pasta. Food products made with cornmeal use the whole grain so  choose tortillas, corn cereals, and corn breads with cornmeal  listed as the first ingredient. • When baking, substitute whole-wheat flour or other whole- grain flour for some of the refined white flour. • If you like bread at dinner, choose a whole-grain muffin over a  Kaiser roll or baguette. Add beans, nuts, or seeds to salad—they add texture and taste. • Choose whole-grain pastas and brown rice, cook al dente, and  add some beans and vegetables in equal portions.'"
      ]
     },
     "execution_count": 102,
     "metadata": {},
     "output_type": "execute_result"
    }
   ],
   "source": [
    "%%time\n",
    "\n",
    "text_chunks = [item[\"sentence_chunk\"] for item in pages_and_chunks_over_min_token_len]\n",
    "text_chunks[419]"
   ]
  },
  {
   "cell_type": "code",
   "execution_count": 103,
   "id": "1ebf1563",
   "metadata": {},
   "outputs": [
    {
     "name": "stdout",
     "output_type": "stream",
     "text": [
      "CPU times: total: 7min 56s\n",
      "Wall time: 2min 10s\n"
     ]
    },
    {
     "data": {
      "text/plain": [
       "array([[-1.9506956e-02, -1.8256381e-02,  7.1660295e-04, ...,\n",
       "        -3.9904315e-02, -2.1542788e-02, -4.3293960e-02],\n",
       "       [ 2.6605360e-02,  1.8785159e-03, -7.0032440e-03, ...,\n",
       "        -2.1590665e-02, -2.1828000e-02, -6.9987506e-02],\n",
       "       [ 3.4971371e-02,  4.0596977e-02, -1.9747209e-02, ...,\n",
       "        -3.5225041e-02, -3.1397354e-02, -4.6612971e-02],\n",
       "       ...,\n",
       "       [-3.2257874e-02, -2.4768434e-02, -1.1571299e-02, ...,\n",
       "        -1.3934436e-05,  3.9905235e-02, -5.2109893e-02],\n",
       "       [-8.8627353e-02, -6.6496156e-02, -1.0430401e-01, ...,\n",
       "        -3.0128334e-02,  8.4004045e-02, -4.2207789e-02],\n",
       "       [-1.1203229e-01, -4.9535055e-02, -2.4896512e-02, ...,\n",
       "         1.2982850e-02,  4.6920080e-02, -2.8275633e-02]], dtype=float32)"
      ]
     },
     "execution_count": 103,
     "metadata": {},
     "output_type": "execute_result"
    }
   ],
   "source": [
    "%%time \n",
    "\n",
    "text_chunk_embeddings = embedding_model.encode(text_chunks,\n",
    "                                               batch_size=32,\n",
    "                                               convert_to_tensors=True)\n",
    "text_chunk_embeddings"
   ]
  },
  {
   "cell_type": "code",
   "execution_count": 104,
   "id": "e2f46aee",
   "metadata": {},
   "outputs": [
    {
     "data": {
      "text/plain": [
       "{'page_number': 276,\n",
       " 'sentence_chunk': 'Personal Choices  Carbohydrates are in most foods so you have a great variety of  choices with which to meet the carbohydrates recommendations  for a healthy diet. The 2010 Dietary Guidelines recommends eating  more unrefined carbohydrates and more fiber, and reducing  consumption of foods that are high in added sugars. To accomplish  these recommendations use some or all of the following  suggestions:  • Get more daily carbohydrate servings from whole grains by  eating a whole-grain cereal for breakfast, using whole-grain  bread to make a sandwich for lunch, and eating a serving of  beans and/or nuts with dinner. • Make sure to get at least three servings (or more) of all the  grains you eat as whole grains every day. A serving of whole  grains is equal to one slice of whole-wheat bread, one ounce of  whole-grain cereal, and one-half cup of cooked cereal, brown  rice, or whole-wheat pasta. Food products made with cornmeal use the whole grain so  choose tortillas, corn cereals, and corn breads with cornmeal  listed as the first ingredient. • When baking, substitute whole-wheat flour or other whole- grain flour for some of the refined white flour. • If you like bread at dinner, choose a whole-grain muffin over a  Kaiser roll or baguette. Add beans, nuts, or seeds to salad—they add texture and taste. • Choose whole-grain pastas and brown rice, cook al dente, and  add some beans and vegetables in equal portions.',\n",
       " 'chunk_char_count': 1432,\n",
       " 'chunk_word_count': 255,\n",
       " 'chunk_token_count': 358.0,\n",
       " 'embedding': array([-2.44224127e-02,  4.73036151e-03,  5.05775213e-02,  1.62831228e-02,\n",
       "        -1.40769174e-02, -7.32689921e-04, -9.37732775e-03,  4.54048328e-02,\n",
       "        -5.41127808e-02,  1.09822061e-02, -4.13642898e-02, -3.32116969e-02,\n",
       "        -8.24697912e-02, -1.20956615e-01,  5.56622632e-02, -3.73408273e-02,\n",
       "         1.11036621e-01,  2.49003284e-02,  4.44651861e-03, -5.64982295e-02,\n",
       "         5.99991456e-02, -3.36043537e-02,  3.69145721e-02,  3.20571698e-02,\n",
       "        -3.56242090e-04, -3.01479753e-02,  3.97105068e-02, -8.69044662e-02,\n",
       "        -5.04556634e-02, -6.04317039e-02,  4.83969115e-02, -7.53317168e-03,\n",
       "        -2.84208376e-02, -6.89398125e-02, -2.24609766e-02, -3.29161063e-02,\n",
       "         2.70417854e-02, -8.02512839e-02, -7.97408372e-02, -7.82751590e-02,\n",
       "        -2.11724080e-02,  1.05770398e-03,  2.19321121e-02,  2.80775689e-02,\n",
       "        -4.40695249e-02, -5.06073572e-02,  5.33286035e-02,  6.82342276e-02,\n",
       "         3.65534276e-02,  1.12108300e-02, -4.45187390e-02, -4.03028801e-02,\n",
       "        -3.88686024e-02,  3.78444907e-03,  5.16501330e-02,  6.36560693e-02,\n",
       "        -1.23151973e-01,  3.47133726e-02, -1.07350517e-02,  4.22269925e-02,\n",
       "        -5.02103902e-02,  4.92779911e-02, -1.53386481e-02, -2.77290698e-02,\n",
       "         1.70439165e-02,  4.48942184e-02, -4.63698469e-02, -2.97594070e-02,\n",
       "        -2.29486488e-02,  4.07925658e-02, -3.31894718e-02, -5.13705984e-02,\n",
       "         1.04175702e-01,  6.45018220e-02, -4.61935364e-02,  1.84812602e-02,\n",
       "         3.06077898e-02, -3.62488069e-02,  1.48528302e-02,  3.07051726e-02,\n",
       "        -3.38259935e-02,  4.34921309e-02,  1.21316180e-01, -1.24523873e-02,\n",
       "         3.33905742e-02, -1.14932181e-02, -5.96363097e-02,  6.22888952e-02,\n",
       "         2.63752621e-02, -8.10232852e-03,  4.72730286e-02, -1.38398735e-02,\n",
       "         2.82497033e-02,  8.86965320e-02,  7.09724650e-02, -3.04030646e-02,\n",
       "        -8.28499533e-03, -9.47556570e-02,  4.53031994e-02, -2.92345844e-02,\n",
       "         6.31373599e-02, -1.07358454e-03,  1.20472111e-01, -1.83891095e-02,\n",
       "        -1.76671613e-02,  8.39480013e-02,  1.99473891e-02,  4.02390137e-02,\n",
       "        -3.14271748e-02,  2.68080421e-02,  6.21339343e-02,  1.32181332e-01,\n",
       "        -7.51490593e-02,  5.14258035e-02, -4.39725257e-02, -3.96130569e-02,\n",
       "         9.49679464e-02, -4.88392562e-02, -1.34528307e-02,  4.65567596e-02,\n",
       "        -4.17060293e-02, -8.00489506e-05,  8.15586224e-02,  6.26094220e-03,\n",
       "        -4.58108597e-02,  5.05421683e-02,  1.28651513e-02,  5.91477607e-33,\n",
       "        -1.00316010e-01, -1.77242607e-03,  5.83714806e-02, -5.12727872e-02,\n",
       "        -6.12848289e-02, -7.13613350e-03, -2.16099862e-02, -2.02472676e-02,\n",
       "         4.18918878e-02,  1.48725333e-02, -7.32766464e-02, -2.53401399e-02,\n",
       "         1.56561285e-02,  7.36213177e-02, -6.07674383e-02, -2.74604633e-02,\n",
       "        -8.73600394e-02, -3.42389084e-02,  2.53239721e-02, -7.92544615e-03,\n",
       "        -7.52919391e-02, -1.12140523e-02, -2.67210416e-02, -2.30304319e-02,\n",
       "         1.83325484e-02, -2.45331414e-02,  3.28989811e-02, -1.73300281e-02,\n",
       "        -4.30138558e-02, -3.08971875e-03,  2.75796112e-02, -2.38278322e-03,\n",
       "        -3.04086949e-03,  1.76465269e-02, -1.14555359e-02,  6.42045820e-03,\n",
       "        -5.16632833e-02,  1.77578032e-02, -2.67753042e-02,  2.53409240e-02,\n",
       "         2.87830401e-02,  1.08266640e-02,  3.25174816e-02, -4.19168472e-02,\n",
       "         3.42338420e-02, -4.99707162e-02,  4.61686924e-02,  5.33840507e-02,\n",
       "        -3.85207720e-02,  2.92861145e-02,  8.12168568e-02, -7.04705194e-02,\n",
       "        -3.63404751e-02,  7.78281689e-02, -4.46692370e-02,  4.31953520e-02,\n",
       "        -1.06190406e-02,  2.81694997e-03,  2.41538268e-02,  6.17132634e-02,\n",
       "        -6.06033802e-02,  2.49503441e-02, -3.31330323e-03, -1.81135666e-02,\n",
       "        -4.05871458e-02,  5.86496741e-02, -9.17015523e-02, -6.25041276e-02,\n",
       "        -1.08033486e-01,  2.91922479e-03, -4.69074678e-03, -4.05094139e-02,\n",
       "         7.69565329e-02,  2.34069247e-02, -3.04426942e-02, -4.06042412e-02,\n",
       "         6.69195428e-02,  2.95286309e-02, -7.18644857e-02,  8.55924503e-04,\n",
       "         1.04738183e-01,  5.47061861e-03,  6.95292354e-02,  2.13679392e-02,\n",
       "        -7.43733067e-03,  1.08714782e-01, -9.04743597e-02,  8.48661456e-03,\n",
       "         5.47083244e-02,  5.88466078e-02, -1.46703515e-03, -3.60151706e-03,\n",
       "         1.14627816e-02,  6.38366938e-02, -9.41946805e-02, -4.70522801e-33,\n",
       "         6.40235096e-02, -1.84753761e-02,  5.29844388e-02,  7.80256540e-02,\n",
       "         2.55668107e-02, -2.97495835e-02,  7.16664717e-02, -1.50947779e-01,\n",
       "         8.00433829e-02, -5.89947850e-02,  8.65675625e-04,  6.67341202e-02,\n",
       "         2.54767928e-02, -7.47387856e-02,  1.18620219e-02,  1.01003595e-01,\n",
       "         1.50686351e-03,  3.38501707e-02, -2.20383480e-02,  1.13563566e-03,\n",
       "        -4.31007110e-02,  5.81392497e-02, -3.97973601e-03, -4.18344438e-02,\n",
       "         7.63277262e-02, -4.06633690e-02,  4.43869494e-02,  5.62431142e-02,\n",
       "         6.87444583e-03, -6.99084178e-02,  8.21935534e-02, -8.87496397e-02,\n",
       "         5.54141551e-02, -1.53234616e-01,  5.65520748e-02, -2.37815082e-02,\n",
       "        -2.39967052e-02, -9.74896457e-03, -1.23271886e-02,  1.12352863e-01,\n",
       "        -1.12615623e-01,  3.59728225e-02, -2.10418086e-02, -7.28500038e-02,\n",
       "        -5.56415468e-02,  7.41212443e-03, -4.30784710e-02, -1.22914605e-01,\n",
       "        -7.63182938e-02,  7.28525147e-02,  2.71400139e-02, -4.93556522e-02,\n",
       "         1.06712878e-02, -1.15621241e-03,  2.67151054e-02,  4.81152907e-02,\n",
       "         9.33675468e-03,  2.63529848e-02,  1.47377579e-02, -2.39826832e-03,\n",
       "        -2.60139327e-03,  3.73755097e-02,  6.36539683e-02, -7.47315064e-02,\n",
       "         1.16694257e-01, -7.52476156e-02, -7.82530084e-02, -3.90366875e-02,\n",
       "        -1.83815639e-02,  9.12016928e-02, -6.46357760e-02, -1.95633690e-03,\n",
       "         4.20676544e-04,  1.97135168e-03,  2.49084178e-02,  3.40037644e-02,\n",
       "         1.56923216e-02, -1.17579764e-02,  6.14326540e-03,  1.68513786e-02,\n",
       "        -4.40482935e-03, -3.19492863e-03,  1.36092482e-02,  9.61860083e-03,\n",
       "        -4.80653942e-02,  9.29273665e-02, -4.55201566e-02,  6.14430085e-02,\n",
       "         8.18667710e-02,  8.56623799e-02,  6.00532163e-04, -8.15659612e-02,\n",
       "         4.86236587e-02,  4.88948263e-02,  9.15795788e-02, -4.56107685e-08,\n",
       "         7.11352676e-02, -3.05890981e-02, -9.03815329e-02,  4.61104885e-02,\n",
       "        -6.30240142e-02, -7.12465669e-04, -1.64216186e-03, -1.20428922e-02,\n",
       "         2.31568199e-02, -4.52442989e-02,  3.40858400e-02,  6.19663596e-02,\n",
       "         2.83191889e-03, -2.52278782e-02, -9.89060551e-02, -4.40731868e-02,\n",
       "         5.65718068e-03, -5.68311773e-02, -2.43030861e-02,  6.55869395e-02,\n",
       "        -1.20581817e-02, -3.12149879e-02, -4.81335595e-02,  4.28909846e-02,\n",
       "         9.58671346e-02, -3.72847766e-02,  4.80632819e-02,  1.88223831e-02,\n",
       "         4.41678986e-02,  5.39828837e-02, -9.50118341e-03,  4.79580276e-02,\n",
       "        -1.07634477e-02, -2.87097413e-02,  5.20955352e-03, -6.40158867e-03,\n",
       "        -1.90264899e-02,  7.13495016e-02, -3.54650983e-04,  3.62984650e-02,\n",
       "         3.93596739e-02, -1.90516338e-02,  7.95951709e-02,  3.46979685e-03,\n",
       "        -3.45201120e-02, -9.27159126e-05, -2.08125748e-02,  1.38409715e-02,\n",
       "        -7.78858410e-03,  3.28741558e-02,  2.61286218e-02,  3.71805280e-02,\n",
       "        -8.98606107e-02,  1.36714634e-02, -1.32894637e-02,  2.02699136e-02,\n",
       "        -5.46450773e-03,  1.04331635e-02,  3.57892108e-03, -9.56909433e-02,\n",
       "        -6.29940331e-02, -1.65907759e-02, -7.79991895e-02, -3.16456966e-02],\n",
       "       dtype=float32)}"
      ]
     },
     "execution_count": 104,
     "metadata": {},
     "output_type": "execute_result"
    }
   ],
   "source": [
    "pages_and_chunks_over_min_token_len[419]"
   ]
  },
  {
   "cell_type": "code",
   "execution_count": 105,
   "id": "6d5fbb58",
   "metadata": {},
   "outputs": [],
   "source": [
    "text_chunk_embeddings_df = pd.DataFrame(pages_and_chunks_over_min_token_len)\n",
    "embeddings_df_save_path = \"text_chunks_and_embeddings_df.csv\"\n",
    "text_chunk_embeddings_df.to_csv(embeddings_df_save_path, index=False)"
   ]
  },
  {
   "cell_type": "code",
   "execution_count": 106,
   "id": "4708ab25",
   "metadata": {},
   "outputs": [
    {
     "data": {
      "text/html": [
       "<div>\n",
       "<style scoped>\n",
       "    .dataframe tbody tr th:only-of-type {\n",
       "        vertical-align: middle;\n",
       "    }\n",
       "\n",
       "    .dataframe tbody tr th {\n",
       "        vertical-align: top;\n",
       "    }\n",
       "\n",
       "    .dataframe thead th {\n",
       "        text-align: right;\n",
       "    }\n",
       "</style>\n",
       "<table border=\"1\" class=\"dataframe\">\n",
       "  <thead>\n",
       "    <tr style=\"text-align: right;\">\n",
       "      <th></th>\n",
       "      <th>page_number</th>\n",
       "      <th>sentence_chunk</th>\n",
       "      <th>chunk_char_count</th>\n",
       "      <th>chunk_word_count</th>\n",
       "      <th>chunk_token_count</th>\n",
       "      <th>embedding</th>\n",
       "    </tr>\n",
       "  </thead>\n",
       "  <tbody>\n",
       "    <tr>\n",
       "      <th>0</th>\n",
       "      <td>-39</td>\n",
       "      <td>Human Nutrition: 2020  Edition  UNIVERSITY OF ...</td>\n",
       "      <td>320</td>\n",
       "      <td>54</td>\n",
       "      <td>80.00</td>\n",
       "      <td>[-1.95069872e-02 -1.82563905e-02  7.16629846e-...</td>\n",
       "    </tr>\n",
       "    <tr>\n",
       "      <th>1</th>\n",
       "      <td>-38</td>\n",
       "      <td>Human Nutrition: 2020 Edition by University of...</td>\n",
       "      <td>212</td>\n",
       "      <td>32</td>\n",
       "      <td>53.00</td>\n",
       "      <td>[ 2.66053844e-02  1.87855097e-03 -7.00323377e-...</td>\n",
       "    </tr>\n",
       "    <tr>\n",
       "      <th>2</th>\n",
       "      <td>-37</td>\n",
       "      <td>Contents  Preface  University of Hawai‘i at Mā...</td>\n",
       "      <td>797</td>\n",
       "      <td>145</td>\n",
       "      <td>199.25</td>\n",
       "      <td>[ 3.49713974e-02  4.05969620e-02 -1.97472107e-...</td>\n",
       "    </tr>\n",
       "    <tr>\n",
       "      <th>3</th>\n",
       "      <td>-36</td>\n",
       "      <td>Lifestyles and Nutrition  University of Hawai‘...</td>\n",
       "      <td>976</td>\n",
       "      <td>177</td>\n",
       "      <td>244.00</td>\n",
       "      <td>[ 2.63138264e-02  2.63623800e-02 -2.12260913e-...</td>\n",
       "    </tr>\n",
       "    <tr>\n",
       "      <th>4</th>\n",
       "      <td>-35</td>\n",
       "      <td>The Cardiovascular System  University of Hawai...</td>\n",
       "      <td>1037</td>\n",
       "      <td>191</td>\n",
       "      <td>259.25</td>\n",
       "      <td>[-4.99462988e-03  5.19444123e-02 -3.91638055e-...</td>\n",
       "    </tr>\n",
       "  </tbody>\n",
       "</table>\n",
       "</div>"
      ],
      "text/plain": [
       "   page_number                                     sentence_chunk  \\\n",
       "0          -39  Human Nutrition: 2020  Edition  UNIVERSITY OF ...   \n",
       "1          -38  Human Nutrition: 2020 Edition by University of...   \n",
       "2          -37  Contents  Preface  University of Hawai‘i at Mā...   \n",
       "3          -36  Lifestyles and Nutrition  University of Hawai‘...   \n",
       "4          -35  The Cardiovascular System  University of Hawai...   \n",
       "\n",
       "   chunk_char_count  chunk_word_count  chunk_token_count  \\\n",
       "0               320                54              80.00   \n",
       "1               212                32              53.00   \n",
       "2               797               145             199.25   \n",
       "3               976               177             244.00   \n",
       "4              1037               191             259.25   \n",
       "\n",
       "                                           embedding  \n",
       "0  [-1.95069872e-02 -1.82563905e-02  7.16629846e-...  \n",
       "1  [ 2.66053844e-02  1.87855097e-03 -7.00323377e-...  \n",
       "2  [ 3.49713974e-02  4.05969620e-02 -1.97472107e-...  \n",
       "3  [ 2.63138264e-02  2.63623800e-02 -2.12260913e-...  \n",
       "4  [-4.99462988e-03  5.19444123e-02 -3.91638055e-...  "
      ]
     },
     "execution_count": 106,
     "metadata": {},
     "output_type": "execute_result"
    }
   ],
   "source": [
    "text_chunk_embeddings_df_load = pd.read_csv(embeddings_df_save_path)\n",
    "text_chunk_embeddings_df_load.head()"
   ]
  },
  {
   "cell_type": "code",
   "execution_count": 107,
   "id": "9b2bb64a",
   "metadata": {},
   "outputs": [
    {
     "data": {
      "text/html": [
       "<div>\n",
       "<style scoped>\n",
       "    .dataframe tbody tr th:only-of-type {\n",
       "        vertical-align: middle;\n",
       "    }\n",
       "\n",
       "    .dataframe tbody tr th {\n",
       "        vertical-align: top;\n",
       "    }\n",
       "\n",
       "    .dataframe thead th {\n",
       "        text-align: right;\n",
       "    }\n",
       "</style>\n",
       "<table border=\"1\" class=\"dataframe\">\n",
       "  <thead>\n",
       "    <tr style=\"text-align: right;\">\n",
       "      <th></th>\n",
       "      <th>page_number</th>\n",
       "      <th>sentence_chunk</th>\n",
       "      <th>chunk_char_count</th>\n",
       "      <th>chunk_word_count</th>\n",
       "      <th>chunk_token_count</th>\n",
       "      <th>embedding</th>\n",
       "    </tr>\n",
       "  </thead>\n",
       "  <tbody>\n",
       "    <tr>\n",
       "      <th>0</th>\n",
       "      <td>-39</td>\n",
       "      <td>Human Nutrition: 2020  Edition  UNIVERSITY OF ...</td>\n",
       "      <td>320</td>\n",
       "      <td>54</td>\n",
       "      <td>80.00</td>\n",
       "      <td>[-0.0195069872, -0.0182563905, 0.000716629846,...</td>\n",
       "    </tr>\n",
       "    <tr>\n",
       "      <th>1</th>\n",
       "      <td>-38</td>\n",
       "      <td>Human Nutrition: 2020 Edition by University of...</td>\n",
       "      <td>212</td>\n",
       "      <td>32</td>\n",
       "      <td>53.00</td>\n",
       "      <td>[0.0266053844, 0.00187855097, -0.00700323377, ...</td>\n",
       "    </tr>\n",
       "    <tr>\n",
       "      <th>2</th>\n",
       "      <td>-37</td>\n",
       "      <td>Contents  Preface  University of Hawai‘i at Mā...</td>\n",
       "      <td>797</td>\n",
       "      <td>145</td>\n",
       "      <td>199.25</td>\n",
       "      <td>[0.0349713974, 0.040596962, -0.0197472107, 0.1...</td>\n",
       "    </tr>\n",
       "    <tr>\n",
       "      <th>3</th>\n",
       "      <td>-36</td>\n",
       "      <td>Lifestyles and Nutrition  University of Hawai‘...</td>\n",
       "      <td>976</td>\n",
       "      <td>177</td>\n",
       "      <td>244.00</td>\n",
       "      <td>[0.0263138264, 0.02636238, -0.0212260913, 0.12...</td>\n",
       "    </tr>\n",
       "    <tr>\n",
       "      <th>4</th>\n",
       "      <td>-35</td>\n",
       "      <td>The Cardiovascular System  University of Hawai...</td>\n",
       "      <td>1037</td>\n",
       "      <td>191</td>\n",
       "      <td>259.25</td>\n",
       "      <td>[-0.00499462988, 0.0519444123, -0.0391638055, ...</td>\n",
       "    </tr>\n",
       "    <tr>\n",
       "      <th>...</th>\n",
       "      <td>...</td>\n",
       "      <td>...</td>\n",
       "      <td>...</td>\n",
       "      <td>...</td>\n",
       "      <td>...</td>\n",
       "      <td>...</td>\n",
       "    </tr>\n",
       "    <tr>\n",
       "      <th>1680</th>\n",
       "      <td>1164</td>\n",
       "      <td>Flashcard Images  Note: Most images in the fla...</td>\n",
       "      <td>1329</td>\n",
       "      <td>200</td>\n",
       "      <td>332.25</td>\n",
       "      <td>[-0.069487296, -0.0580273904, -0.0557570867, 0...</td>\n",
       "    </tr>\n",
       "    <tr>\n",
       "      <th>1681</th>\n",
       "      <td>1164</td>\n",
       "      <td>Hazard Analysis Critical Control Points reused...</td>\n",
       "      <td>383</td>\n",
       "      <td>59</td>\n",
       "      <td>95.75</td>\n",
       "      <td>[-0.078739576, -0.0129298177, -0.106434911, 0....</td>\n",
       "    </tr>\n",
       "    <tr>\n",
       "      <th>1682</th>\n",
       "      <td>1165</td>\n",
       "      <td>ShareAlike  11. Organs reused “Pancreas Organ ...</td>\n",
       "      <td>1312</td>\n",
       "      <td>199</td>\n",
       "      <td>328.00</td>\n",
       "      <td>[-0.0322578736, -0.0247684345, -0.0115712993, ...</td>\n",
       "    </tr>\n",
       "    <tr>\n",
       "      <th>1683</th>\n",
       "      <td>1165</td>\n",
       "      <td>Sucrose reused “Figure 03 02 05” by OpenStax B...</td>\n",
       "      <td>420</td>\n",
       "      <td>69</td>\n",
       "      <td>105.00</td>\n",
       "      <td>[-0.0886273682, -0.0664961636, -0.104304008, 0...</td>\n",
       "    </tr>\n",
       "    <tr>\n",
       "      <th>1684</th>\n",
       "      <td>1166</td>\n",
       "      <td>23. Vitamin D reused “The Functions of Vitamin...</td>\n",
       "      <td>257</td>\n",
       "      <td>44</td>\n",
       "      <td>64.25</td>\n",
       "      <td>[-0.112032294, -0.049535051, -0.0248965137, -0...</td>\n",
       "    </tr>\n",
       "  </tbody>\n",
       "</table>\n",
       "<p>1685 rows × 6 columns</p>\n",
       "</div>"
      ],
      "text/plain": [
       "      page_number                                     sentence_chunk  \\\n",
       "0             -39  Human Nutrition: 2020  Edition  UNIVERSITY OF ...   \n",
       "1             -38  Human Nutrition: 2020 Edition by University of...   \n",
       "2             -37  Contents  Preface  University of Hawai‘i at Mā...   \n",
       "3             -36  Lifestyles and Nutrition  University of Hawai‘...   \n",
       "4             -35  The Cardiovascular System  University of Hawai...   \n",
       "...           ...                                                ...   \n",
       "1680         1164  Flashcard Images  Note: Most images in the fla...   \n",
       "1681         1164  Hazard Analysis Critical Control Points reused...   \n",
       "1682         1165  ShareAlike  11. Organs reused “Pancreas Organ ...   \n",
       "1683         1165  Sucrose reused “Figure 03 02 05” by OpenStax B...   \n",
       "1684         1166  23. Vitamin D reused “The Functions of Vitamin...   \n",
       "\n",
       "      chunk_char_count  chunk_word_count  chunk_token_count  \\\n",
       "0                  320                54              80.00   \n",
       "1                  212                32              53.00   \n",
       "2                  797               145             199.25   \n",
       "3                  976               177             244.00   \n",
       "4                 1037               191             259.25   \n",
       "...                ...               ...                ...   \n",
       "1680              1329               200             332.25   \n",
       "1681               383                59              95.75   \n",
       "1682              1312               199             328.00   \n",
       "1683               420                69             105.00   \n",
       "1684               257                44              64.25   \n",
       "\n",
       "                                              embedding  \n",
       "0     [-0.0195069872, -0.0182563905, 0.000716629846,...  \n",
       "1     [0.0266053844, 0.00187855097, -0.00700323377, ...  \n",
       "2     [0.0349713974, 0.040596962, -0.0197472107, 0.1...  \n",
       "3     [0.0263138264, 0.02636238, -0.0212260913, 0.12...  \n",
       "4     [-0.00499462988, 0.0519444123, -0.0391638055, ...  \n",
       "...                                                 ...  \n",
       "1680  [-0.069487296, -0.0580273904, -0.0557570867, 0...  \n",
       "1681  [-0.078739576, -0.0129298177, -0.106434911, 0....  \n",
       "1682  [-0.0322578736, -0.0247684345, -0.0115712993, ...  \n",
       "1683  [-0.0886273682, -0.0664961636, -0.104304008, 0...  \n",
       "1684  [-0.112032294, -0.049535051, -0.0248965137, -0...  \n",
       "\n",
       "[1685 rows x 6 columns]"
      ]
     },
     "execution_count": 107,
     "metadata": {},
     "output_type": "execute_result"
    }
   ],
   "source": [
    "import numpy as np\n",
    "\n",
    "\n",
    "text_chunks_and_embedding_df = pd.read_csv(\"text_chunks_and_embeddings_df.csv\")\n",
    "\n",
    "text_chunks_and_embedding_df[\"embedding\"] = text_chunks_and_embedding_df[\"embedding\"].apply(lambda x: np.fromstring(x.strip(\"[]\"), sep=\" \"))\n",
    "\n",
    "embeddings = torch.tensor(np.stack(text_chunks_and_embedding_df[\"embedding\"].tolist(), axis=0))\n",
    "\n",
    "pages_and_chunks = text_chunks_and_embedding_df.to_dict(orient=\"records\")\n",
    "\n",
    "text_chunks_and_embedding_df"
   ]
  },
  {
   "cell_type": "code",
   "execution_count": 108,
   "id": "9f08e0fd",
   "metadata": {},
   "outputs": [
    {
     "data": {
      "text/plain": [
       "0       [-0.0195069872, -0.0182563905, 0.000716629846,...\n",
       "1       [0.0266053844, 0.00187855097, -0.00700323377, ...\n",
       "2       [0.0349713974, 0.040596962, -0.0197472107, 0.1...\n",
       "3       [0.0263138264, 0.02636238, -0.0212260913, 0.12...\n",
       "4       [-0.00499462988, 0.0519444123, -0.0391638055, ...\n",
       "                              ...                        \n",
       "1680    [-0.069487296, -0.0580273904, -0.0557570867, 0...\n",
       "1681    [-0.078739576, -0.0129298177, -0.106434911, 0....\n",
       "1682    [-0.0322578736, -0.0247684345, -0.0115712993, ...\n",
       "1683    [-0.0886273682, -0.0664961636, -0.104304008, 0...\n",
       "1684    [-0.112032294, -0.049535051, -0.0248965137, -0...\n",
       "Name: embedding, Length: 1685, dtype: object"
      ]
     },
     "execution_count": 108,
     "metadata": {},
     "output_type": "execute_result"
    }
   ],
   "source": [
    "text_chunks_and_embedding_df[\"embedding\"]"
   ]
  },
  {
   "cell_type": "code",
   "execution_count": 109,
   "id": "a1d02877",
   "metadata": {},
   "outputs": [
    {
     "data": {
      "text/plain": [
       "torch.Size([1685, 384])"
      ]
     },
     "execution_count": 109,
     "metadata": {},
     "output_type": "execute_result"
    }
   ],
   "source": [
    "embeddings.shape"
   ]
  },
  {
   "cell_type": "code",
   "execution_count": 110,
   "id": "b7635746",
   "metadata": {},
   "outputs": [],
   "source": [
    "from sentence_transformers import util, SentenceTransformer\n",
    "\n",
    "embedding_model = SentenceTransformer(model_name_or_path = \"all-MiniLM-L6-v2\",\n",
    "                                      device=\"cpu\")"
   ]
  },
  {
   "cell_type": "markdown",
   "id": "43e8d6d4",
   "metadata": {},
   "source": [
    "For getting a text we wanted we can do the following workflow:\n",
    "1. Define a query string.\n",
    "2. Turn the query string into an embedding.\n",
    "3. Perform a dot product or cosine similarity function between the text embeddings and the query embedding.\n",
    "4. Sort the results from 3 in descending order."
   ]
  },
  {
   "cell_type": "markdown",
   "id": "53fa1837",
   "metadata": {},
   "source": [
    "to use dot product (or most of the other comparison, combination operation) you need to have the same shape for the tensors/arrays and in the same data type."
   ]
  },
  {
   "cell_type": "code",
   "execution_count": 139,
   "id": "b8b504db",
   "metadata": {},
   "outputs": [
    {
     "name": "stdout",
     "output_type": "stream",
     "text": [
      "Query: good foods for protein\n",
      "time taken to get the scores 0.00150\n"
     ]
    },
    {
     "data": {
      "text/plain": [
       "torch.return_types.topk(\n",
       "values=tensor([0.7444, 0.7354, 0.7176, 0.7073, 0.6743]),\n",
       "indices=tensor([619, 614, 623, 618, 615]))"
      ]
     },
     "execution_count": 139,
     "metadata": {},
     "output_type": "execute_result"
    }
   ],
   "source": [
    "query = \"good foods for protein\"\n",
    "print(f\"Query: {query}\")\n",
    "\n",
    "query_embedding = embedding_model.encode(query, convert_to_tensor=True)\n",
    "\n",
    "embeddings = embeddings.to(torch.float32)\n",
    "query_embedding = query_embedding.to(torch.float32)\n",
    "\n",
    "from time import perf_counter as timer\n",
    "\n",
    "start_time = timer()\n",
    "\n",
    "dot_scores = util.dot_score(a=query_embedding, b=embeddings)[0]\n",
    "\n",
    "end_time = timer()\n",
    "\n",
    "print(f\"time taken to get the scores {end_time - start_time:.5f}\")\n",
    "\n",
    "top_results_dot_product = torch.topk(dot_scores, k=5)\n",
    "top_results_dot_product"
   ]
  },
  {
   "cell_type": "code",
   "execution_count": 140,
   "id": "53daabb8",
   "metadata": {},
   "outputs": [
    {
     "name": "stdout",
     "output_type": "stream",
     "text": [
      "embeddings shape: torch.Size([1685000, 768])\n",
      "time taken to get the scores 0.03750\n"
     ]
    }
   ],
   "source": [
    "larger_embeddings = torch.rand(1000*embeddings.shape[0], 768).to(\"cpu\")\n",
    "print(f\"embeddings shape: {larger_embeddings.shape}\")\n",
    "\n",
    "start_time = timer()\n",
    "dot_scores = util.dot_score(a=query_embedding, b=embeddings)[0]\n",
    "end_time = timer()\n",
    "\n",
    "print(f\"time taken to get the scores {end_time - start_time:.5f}\")"
   ]
  },
  {
   "cell_type": "markdown",
   "id": "6021c46a",
   "metadata": {},
   "source": [
    "It is actually fast to search over embeddings, even when the component number is increasing.\n",
    "\n",
    "However when the embeddings are a lot (10M+) you would want to create an index\n",
    "\n",
    "index helps you to search the embedding faster. \n",
    "\n",
    "One library for that is META's FAISS. One technique is provided by this library is approximate nearest neighbour search (ANN)."
   ]
  },
  {
   "cell_type": "code",
   "execution_count": 128,
   "id": "3578de36",
   "metadata": {},
   "outputs": [
    {
     "name": "stderr",
     "output_type": "stream",
     "text": [
      "ERROR: Could not find a version that satisfies the requirement textwrap (from versions: none)\n",
      "ERROR: No matching distribution found for textwrap\n"
     ]
    }
   ],
   "source": [
    "!pip install textwrap"
   ]
  },
  {
   "cell_type": "code",
   "execution_count": 129,
   "id": "a7640305",
   "metadata": {},
   "outputs": [],
   "source": [
    "import textwrap\n",
    "\n",
    "def print_wrapped(text, wrap_length=80):\n",
    "    wrapped_text = textwrap.fill(text, wrap_length)\n",
    "    print(wrapped_text)"
   ]
  },
  {
   "cell_type": "code",
   "execution_count": 141,
   "id": "2f66ccbd",
   "metadata": {},
   "outputs": [
    {
     "name": "stdout",
     "output_type": "stream",
     "text": [
      "Query: good foods with protein\n",
      "Results:\n",
      "Score: 0.7444\n",
      "text:\n",
      "Additionally, a person should consume 8 ounces of cooked seafood  every week\n",
      "(typically as two 4-ounce servings) to assure they are  getting the healthy\n",
      "omega-3 fatty acids that have been linked to a  lower risk for heart disease.\n",
      "Another tip is choosing to eat dry beans,  peas, or soy products as a main dish.\n",
      "Some of the menu choices  include chili with kidney and pinto beans, hummus on\n",
      "pita bread,  and black bean enchiladas. You could also enjoy nuts in a variety\n",
      "of  ways. You can put them on a salad, in a stir-fry, or use them as a  topping\n",
      "for steamed vegetables in place of meat or cheese. If you do  not eat meat, the\n",
      "USDA has much more information on how to get  all the protein you need from a\n",
      "plant-based diet. When choosing the  best protein-rich foods to eat, pay\n",
      "attention to the whole nutrient  package and remember to select from a variety\n",
      "of protein sources  to get all the other essential micronutrients. Protein\n",
      "Quality  While protein is contained in a wide variety of foods, it differs in\n",
      "quality. High-quality protein contains all the essential amino acids  in the\n",
      "proportions needed by the human body. The amino acid  profile of different foods\n",
      "is therefore one component of protein  quality.\n",
      "Page number: 414\n",
      "\n",
      "\n",
      "Score: 0.7354\n",
      "text:\n",
      "Dietary Sources of Protein  The protein food group consists of foods made from\n",
      "meat, seafood,  poultry, eggs, soy, dry beans, peas, and seeds. According to the\n",
      "Harvard School of Public Health, “animal protein and vegetable  protein probably\n",
      "have the same effects on health. It’s the protein  package that’s likely to make\n",
      "a difference.”1  1. Protein: The Bottom Line. Harvard School of Public\n",
      "Proteins, Diet, and Personal Choices  |  411\n",
      "Page number: 411\n",
      "\n",
      "\n",
      "Score: 0.7176\n",
      "text:\n",
      "Food  PDCAAS*  Milk protein  1.00  Egg white  1.00  Whey  1.00  Soy protein\n",
      "1.00  Beef  0.92  Soybeans  0.91  Chickpeas  0.78  Fruits  0.76  Vegetables\n",
      "0.73  Whole wheat  0.42  *1 is the highest rank, 0 is the lowest  Protein Needs:\n",
      "Special Considerations  Some groups may need to examine how to meet their\n",
      "protein needs  more closely than others. We will take a closer look at the\n",
      "special  protein considerations for vegetarians, the elderly, and athletes.\n",
      "Vegetarians and Vegans  People who follow variations of the vegetarian diet and\n",
      "consume  eggs and/or dairy products can meet their protein requirements  by\n",
      "consuming adequate amounts of these foods. Vegetarians and  vegans can also\n",
      "attain their recommended protein intakes if they  give a little more attention\n",
      "to high-quality plant-based protein  sources. However, when following a\n",
      "vegetarian diet, the amino acid  lysine can be challenging to acquire. Grains,\n",
      "nuts, and seeds are  lysine-poor foods, but tofu, soy, quinoa, and pistachios\n",
      "are all good  Proteins, Diet, and Personal Choices  |  417\n",
      "Page number: 417\n",
      "\n",
      "\n",
      "Score: 0.7073\n",
      "text:\n",
      "18.9  5.4  200  454  Tuna 3 oz. (canned)  21.7  0.2  26  99  Soybeans 1 c.\n",
      "(boiled)  29.0  2.2  0  298  Lentils 1 c. (boiled)  17.9  0.1  0  226  Kidney\n",
      "beans 1 c.  (canned)  13.5  0.2  0  215  Sunflower seeds 1 c.  9.6  2.0  0  269\n",
      "The USDA provides some tips for choosing your dietary protein  sources. Their\n",
      "motto is, “Go Lean with Protein”. The overall  suggestion is to eat a variety of\n",
      "protein-rich foods to benefit health. The USDA recommends lean meats, such as\n",
      "round steaks, top  sirloin, extra lean ground beef, pork loin, and skinless\n",
      "chicken. Proteins, Diet, and Personal Choices  |  413\n",
      "Page number: 413\n",
      "\n",
      "\n",
      "Score: 0.6743\n",
      "text:\n",
      "Simply put, different protein sources differ in their additional  components, so\n",
      "it is necessary to pay attention to the whole  nutrient “package.”Protein-rich\n",
      "animal-based foods commonly  have high amounts of B vitamins, vitamin E, iron,\n",
      "magnesium, and  zinc. Seafood often contains healthy fats, and plant sources of\n",
      "protein contain a high amount of fiber. Some animal-based protein- rich foods\n",
      "have an unhealthy amount of saturated fat and  cholesterol. When choosing your\n",
      "dietary sources of protein, take  note of the other nutrients and also the non-\n",
      "nutrients, such as  cholesterol, dyes, and preservatives, in order to make good\n",
      "selections that will benefit your health. For instance, a hamburger  patty made\n",
      "from 80 percent lean meat contains 22 grams of protein,  5.7 grams of saturated\n",
      "fat, and 77 milligrams of cholesterol. A burger  made from 95 percent lean meat\n",
      "also contains 22 grams of protein,  but has 2.3 grams of saturated fat and 60\n",
      "milligrams of cholesterol. A cup of boiled soybeans contains 29 grams of\n",
      "protein, 2.2 grams of  saturated fat, and no cholesterol. For more comparisons\n",
      "of protein- rich foods, see Table 6.3 “Sources of Dietary Protein”. To find out\n",
      "the complete nutrient package of different foods, visit the US  Department of\n",
      "Agriculture (USDA) Food Composition Databases.\n",
      "Page number: 412\n",
      "\n",
      "\n"
     ]
    }
   ],
   "source": [
    "query = \"good foods with protein\"\n",
    "\n",
    "print(f\"Query: {query}\")\n",
    "print(\"Results:\")\n",
    "\n",
    "for score, idx in zip(top_results_dot_product[0], top_results_dot_product[1]):\n",
    "    print(f\"Score: {score:.4f}\")\n",
    "    print(\"text:\")\n",
    "    print_wrapped(pages_and_chunks[idx][\"sentence_chunk\"])\n",
    "    print(f\"Page number: {pages_and_chunks[idx]['page_number']}\")\n",
    "    print(\"\\n\")"
   ]
  },
  {
   "cell_type": "markdown",
   "id": "11c66122",
   "metadata": {},
   "source": [
    "You can do even further ranking with models that will rerank the stuff you initially did (getting lets say top 25 results) which will rerank that into even narrower and neat answers.\n",
    "mxbai-rerank-large is one of the algos and it is open source and available on hugging face."
   ]
  },
  {
   "cell_type": "code",
   "execution_count": 142,
   "id": "7f234c28",
   "metadata": {},
   "outputs": [
    {
     "data": {
      "image/png": "[encoded data removed]",
      "text/plain": [
       "<Figure size 1300x1000 with 1 Axes>"
      ]
     },
     "metadata": {},
     "output_type": "display_data"
    }
   ],
   "source": [
    "import fitz\n",
    "\n",
    "pdf_path = \"human-nutrition-text.pdf\"\n",
    "doc = fitz.open(pdf_path)\n",
    "page = doc.load_page(414 + 41)\n",
    "\n",
    "img = page.get_pixmap(dpi=300)\n",
    "\n",
    "img.save(\"output_filename.png\")\n",
    "\n",
    "doc.close()\n",
    "\n",
    "img_array = np.frombuffer(img.samples_mv, dtype=np.uint8).reshape(img.h, img.w, img.n)\n",
    "\n",
    "img_array\n",
    "\n",
    "import matplotlib.pyplot as plt\n",
    "\n",
    "plt.figure(figsize=(13,10))\n",
    "plt.imshow(img_array)\n",
    "plt.title(f\"Query '{query}' | Most relevant page\")\n",
    "plt.axis(\"off\")\n",
    "plt.show()"
   ]
  },
  {
   "cell_type": "markdown",
   "id": "0915e055",
   "metadata": {},
   "source": [
    "### 4. Similarity Measures: dot product and cosine similarity."
   ]
  },
  {
   "cell_type": "code",
   "execution_count": 144,
   "id": "91b3b5c1",
   "metadata": {},
   "outputs": [
    {
     "name": "stdout",
     "output_type": "stream",
     "text": [
      "tensor(32.)\n",
      "tensor(0.9746)\n"
     ]
    }
   ],
   "source": [
    "import torch\n",
    "\n",
    "def dot_product(vector1, vector2):\n",
    "    return torch.dot(vector1, vector2)\n",
    "\n",
    "def cosine_similarity(vector1, vector2):\n",
    "    dot_prod = torch.dot(vector1, vector2)\n",
    "\n",
    "    norm_vector1 = torch.sqrt(torch.sum(vector1**2))\n",
    "    norm_vector2 = torch.sqrt(torch.sum(vector2**2))\n",
    "\n",
    "    return dot_prod / (norm_vector1 * norm_vector2)\n",
    "\n",
    "vector1 = torch.tensor([1,2,3], dtype=torch.float32)\n",
    "vector2 = torch.tensor([4,5,6], dtype=torch.float32)\n",
    "\n",
    "print(dot_product(vector1=vector1, vector2=vector2))\n",
    "print(cosine_similarity(vector1, vector2))"
   ]
  },
  {
   "cell_type": "markdown",
   "id": "b54a4c12",
   "metadata": {},
   "source": [
    "### 5. Functionizing semantic search pipeline"
   ]
  },
  {
   "cell_type": "code",
   "execution_count": 152,
   "id": "00e49e95",
   "metadata": {},
   "outputs": [],
   "source": [
    "def retrieve_relevant_resources(query: str, embeddings: torch.tensor, model: SentenceTransformer=embedding_model, n_resources_to_return: int=5, print_time: bool=True) ->list:\n",
    "    \"\"\"\n",
    "    Embeds a query with a model and returns top k scores and indices from embeddings\n",
    "    \"\"\"\n",
    "\n",
    "    query_embedding = model.encode(query, convert_to_tensor=True)\n",
    "\n",
    "    start_time = timer()\n",
    "    dot_scores = util.dot_score(query_embedding, embeddings)[0]\n",
    "    end_time = timer()\n",
    "\n",
    "    if print_time:\n",
    "        print(f\"time taken for execution is: {end_time - start_time:.5f}\")\n",
    "\n",
    "    scores, indices = torch.topk(input=dot_scores, k=n_resources_to_return)\n",
    "\n",
    "    return scores, indices\n",
    "\n",
    "def print_top_results_and_scores(query:str, embeddings: torch.tensor, pages_and_chunks: list[dict]=pages_and_chunks, n_resources_to_return: int=5):\n",
    "    \"\"\"\n",
    "    Finds relevant passages given the query and prints them out along with their scores.\n",
    "    \"\"\"\n",
    "    scores, indices = retrieve_relevant_resources(query=query, embeddings=embeddings, n_resources_to_return=n_resources_to_return)\n",
    "    for score, idx in zip(scores, indices):\n",
    "        print(f\"Score: {score:.4f}\")\n",
    "        print(\"text:\")\n",
    "        print_wrapped(pages_and_chunks[idx][\"sentence_chunk\"])\n",
    "        print(f\"Page number: {pages_and_chunks[idx]['page_number']}\")\n",
    "        print(\"\\n\")"
   ]
  },
  {
   "cell_type": "code",
   "execution_count": 153,
   "id": "481994d6",
   "metadata": {},
   "outputs": [
    {
     "name": "stdout",
     "output_type": "stream",
     "text": [
      "time taken for execution is: 0.00038\n",
      "time taken for execution is: 0.00074\n",
      "Score: 0.6057\n",
      "text:\n",
      "Whole Grains and Fiber. American Heart Association.\n",
      "http://www.heart.org/HEARTORG/GettingHealthy/\n",
      "NutritionCenter/HealthyDietGoals/Whole-Grains-and- Fiber_UCM_303249_Article.jsp.\n",
      "Updated 2017. Accessed  September 30, 2017. 268  |  Health Consequences and\n",
      "Benefits of High-Carbohydrate Diets\n",
      "Page number: 268\n",
      "\n",
      "\n",
      "Score: 0.5971\n",
      "text:\n",
      "Image by  Allison  Calabrese /  CC BY 4.0  fiber intake because of what the\n",
      "breakdown products of the fiber  do for the colon. The bacterial breakdown of\n",
      "fiber in the large  intestine releases short-chain fatty acids. These molecules\n",
      "have  been found to nourish colonic cells, inhibit colonic inflammation,  and\n",
      "stimulate the immune system (thereby providing protection  of the colon from\n",
      "harmful substances). Additionally, the bacterial  indigestible fiber, mostly\n",
      "insoluble, increases stool bulk and softness  increasing transit time in the\n",
      "large intestine and facilitating feces  elimination. One phenomenon of consuming\n",
      "foods high in fiber is  increased gas, since the byproducts of bacterial\n",
      "digestion of fiber  are gases. Figure 18.2 Diverticulitis: A Disease of Fiber\n",
      "Deficiency  Some studies have found a link between high dietary-fiber intake\n",
      "and a decreased risk for colon cancer. However an analysis of  1086  |\n",
      "Nutrition, Health and Disease\n",
      "Page number: 1086\n",
      "\n",
      "\n",
      "Score: 0.5899\n",
      "text:\n",
      "Choose whole-grain and high-fiber foods. Reduced risk for  cardiovascular\n",
      "disease has been associated with diets that are high  in whole grains and fiber.\n",
      "Fiber also slows down cholesterol  absorption. The AHA recommends that at least\n",
      "half of daily grain  intake should originate from whole grains. The Adequate\n",
      "Intake  value for fiber is 14 grams per 1,000 kilocalories. These amounts  are\n",
      "based upon the amount of fiber that has been shown to reduce  cardiovascular\n",
      "risk. Do not be sedentary. Get more exercise on a regular basis. Increasing your\n",
      "energy expenditure by just twenty minutes of  physical activity at least three\n",
      "times per week will improve your  overall health. Physical exercise can help you\n",
      "manage or prevent  high blood pressure and blood cholesterol levels.\n",
      "Page number: 349\n",
      "\n",
      "\n",
      "Score: 0.5858\n",
      "text:\n",
      "Humans and animals store glucose energy from starches in the  form of the very\n",
      "large molecule, glycogen. It has many branches that  allow it to break down\n",
      "quickly when energy is needed by cells in the  body. It is predominantly found\n",
      "in liver and muscle tissue in animals. Dietary Fibers  Dietary fibers are\n",
      "polysaccharides that are highly branched and  cross-linked. Some dietary fibers\n",
      "are pectin, gums, cellulose,  hemicellulose, and lignin. Lignin, however, is not\n",
      "composed of  carbohydrate units. Humans do not produce the enzymes that can\n",
      "break down dietary fiber; however, bacteria in the large intestine  (colon) do.\n",
      "Dietary fibers are very beneficial to our health. The  Dietary Guidelines\n",
      "Advisory Committee states that there is enough  scientific evidence to support\n",
      "that diets high in fiber reduce the  risk for obesity and diabetes, which are\n",
      "primary risk factors for  cardiovascular disease.2  2. US Department of\n",
      "Agriculture.\n",
      "Page number: 236\n",
      "\n",
      "\n",
      "Score: 0.5827\n",
      "text:\n",
      "Dietary fiber is categorized as either water-soluble or insoluble. Some examples\n",
      "of soluble fibers are inulin, pectin, and guar gum  and they are found in peas,\n",
      "beans, oats, barley, and rye. Cellulose  and lignin are insoluble fibers and a\n",
      "few dietary sources of them  are whole-grain foods, flax, cauliflower, and\n",
      "avocados. Cellulose is  the most abundant fiber in plants, making up the cell\n",
      "walls and  providing structure. Soluble fibers are more easily accessible to\n",
      "bacterial enzymes in the large intestine so they can be broken down  to a\n",
      "greater extent than insoluble fibers, but even some breakdown  of cellulose and\n",
      "other insoluble fibers occurs. The last class of fiber is functional fiber.\n",
      "Functional fibers have  been added to foods and have been shown to provide\n",
      "health  benefits to humans. Functional fibers may be extracted from plants  and\n",
      "purified or synthetically made. An example of a functional fiber  is psyllium-\n",
      "seed husk. Scientific studies show that consuming  psyllium-seed husk reduces\n",
      "blood-cholesterol levels and this health  claim has been approved by the FDA.\n",
      "Page number: 237\n",
      "\n",
      "\n"
     ]
    }
   ],
   "source": [
    "query = \"foods high in fiber\"\n",
    "retrieve_relevant_resources(query=query, embeddings=embeddings)\n",
    "print_top_results_and_scores(query=query, embeddings=embeddings)"
   ]
  },
  {
   "cell_type": "markdown",
   "id": "499d0739",
   "metadata": {},
   "source": [
    "### 6. Adding LLM to the equation."
   ]
  },
  {
   "cell_type": "code",
   "execution_count": null,
   "id": "1a9f8706",
   "metadata": {},
   "outputs": [],
   "source": [
    "# import torch \n",
    "# gpu_memory_bytes = torch.cuda.get_device_properties(0).total_memory\n",
    "# gpu_memory_gb = round(gpu_memory_bytes / (2**30))\n",
    "# print(f\"Available GPU memory: {gpu_memory_gb} GB\")\n",
    "# I am not working on a linux backend so no cuda enablation here."
   ]
  },
  {
   "cell_type": "markdown",
   "id": "8141f66c",
   "metadata": {},
   "source": [
    "You can load the LLM locally with huggingface transformers\n",
    "Ideally these are needed to run model locally without problems.\n",
    "1. A qunatization config\n",
    "2. model ID: this will tell transformers to load the model/tokenizer\n",
    "3. A tokenizer - this turns text into numbers ready for the LLM (note: a tokenizer is different from an embedding model).\n",
    "4. An LLM model - this will be what is going to be used to generate text based on an input\n",
    "\n",
    "Flash attention makes token generation speed up to your LLM."
   ]
  },
  {
   "cell_type": "code",
   "execution_count": 166,
   "id": "8be34618",
   "metadata": {},
   "outputs": [
    {
     "name": "stdout",
     "output_type": "stream",
     "text": [
      "Requirement already satisfied: bitsandbytes in c:\\users\\yusuf\\anaconda3\\lib\\site-packages (0.45.5)\n",
      "Requirement already satisfied: accelerate in c:\\users\\yusuf\\anaconda3\\lib\\site-packages (1.6.0)\n",
      "Requirement already satisfied: torch<3,>=2.0 in c:\\users\\yusuf\\anaconda3\\lib\\site-packages (from bitsandbytes) (2.6.0)\n",
      "Requirement already satisfied: numpy>=1.17 in c:\\users\\yusuf\\anaconda3\\lib\\site-packages (from bitsandbytes) (1.23.5)\n",
      "Requirement already satisfied: packaging>=20.0 in c:\\users\\yusuf\\anaconda3\\lib\\site-packages (from accelerate) (23.0)\n",
      "Requirement already satisfied: psutil in c:\\users\\yusuf\\anaconda3\\lib\\site-packages (from accelerate) (5.9.0)\n",
      "Requirement already satisfied: pyyaml in c:\\users\\yusuf\\anaconda3\\lib\\site-packages (from accelerate) (6.0)\n",
      "Requirement already satisfied: huggingface-hub>=0.21.0 in c:\\users\\yusuf\\anaconda3\\lib\\site-packages (from accelerate) (0.30.2)\n",
      "Requirement already satisfied: safetensors>=0.4.3 in c:\\users\\yusuf\\anaconda3\\lib\\site-packages (from accelerate) (0.5.3)\n",
      "Requirement already satisfied: filelock in c:\\users\\yusuf\\anaconda3\\lib\\site-packages (from huggingface-hub>=0.21.0->accelerate) (3.9.0)\n",
      "Requirement already satisfied: fsspec>=2023.5.0 in c:\\users\\yusuf\\anaconda3\\lib\\site-packages (from huggingface-hub>=0.21.0->accelerate) (2025.3.2)\n",
      "Requirement already satisfied: requests in c:\\users\\yusuf\\anaconda3\\lib\\site-packages (from huggingface-hub>=0.21.0->accelerate) (2.31.0)\n",
      "Requirement already satisfied: tqdm>=4.42.1 in c:\\users\\yusuf\\anaconda3\\lib\\site-packages (from huggingface-hub>=0.21.0->accelerate) (4.65.0)\n",
      "Requirement already satisfied: typing-extensions>=3.7.4.3 in c:\\users\\yusuf\\anaconda3\\lib\\site-packages (from huggingface-hub>=0.21.0->accelerate) (4.13.2)\n",
      "Requirement already satisfied: networkx in c:\\users\\yusuf\\anaconda3\\lib\\site-packages (from torch<3,>=2.0->bitsandbytes) (3.1)\n",
      "Requirement already satisfied: jinja2 in c:\\users\\yusuf\\anaconda3\\lib\\site-packages (from torch<3,>=2.0->bitsandbytes) (3.1.2)\n",
      "Requirement already satisfied: sympy==1.13.1 in c:\\users\\yusuf\\anaconda3\\lib\\site-packages (from torch<3,>=2.0->bitsandbytes) (1.13.1)\n",
      "Requirement already satisfied: mpmath<1.4,>=1.1.0 in c:\\users\\yusuf\\anaconda3\\lib\\site-packages (from sympy==1.13.1->torch<3,>=2.0->bitsandbytes) (1.3.0)\n",
      "Requirement already satisfied: colorama in c:\\users\\yusuf\\anaconda3\\lib\\site-packages (from tqdm>=4.42.1->huggingface-hub>=0.21.0->accelerate) (0.4.6)\n",
      "Requirement already satisfied: MarkupSafe>=2.0 in c:\\users\\yusuf\\anaconda3\\lib\\site-packages (from jinja2->torch<3,>=2.0->bitsandbytes) (2.1.1)\n",
      "Requirement already satisfied: charset-normalizer<4,>=2 in c:\\users\\yusuf\\anaconda3\\lib\\site-packages (from requests->huggingface-hub>=0.21.0->accelerate) (2.0.4)\n",
      "Requirement already satisfied: idna<4,>=2.5 in c:\\users\\yusuf\\anaconda3\\lib\\site-packages (from requests->huggingface-hub>=0.21.0->accelerate) (3.4)\n",
      "Requirement already satisfied: urllib3<3,>=1.21.1 in c:\\users\\yusuf\\anaconda3\\lib\\site-packages (from requests->huggingface-hub>=0.21.0->accelerate) (1.26.16)\n",
      "Requirement already satisfied: certifi>=2017.4.17 in c:\\users\\yusuf\\anaconda3\\lib\\site-packages (from requests->huggingface-hub>=0.21.0->accelerate) (2024.8.30)\n"
     ]
    }
   ],
   "source": [
    "!pip install bitsandbytes accelerate"
   ]
  },
  {
   "cell_type": "code",
   "execution_count": 168,
   "id": "983e2ff2",
   "metadata": {},
   "outputs": [
    {
     "data": {
      "application/vnd.jupyter.widget-view+json": {
       "model_id": "fdca7d4d3d2c4207a1e7e81c631c64e0",
       "version_major": 2,
       "version_minor": 0
      },
      "text/plain": [
       "model.safetensors.index.json:   0%|          | 0.00/24.2k [00:00<?, ?B/s]"
      ]
     },
     "metadata": {},
     "output_type": "display_data"
    },
    {
     "data": {
      "application/vnd.jupyter.widget-view+json": {
       "model_id": "04fd1333df594e39817c8642887a230f",
       "version_major": 2,
       "version_minor": 0
      },
      "text/plain": [
       "Fetching 2 files:   0%|          | 0/2 [00:00<?, ?it/s]"
      ]
     },
     "metadata": {},
     "output_type": "display_data"
    },
    {
     "data": {
      "application/vnd.jupyter.widget-view+json": {
       "model_id": "cc2f89b8d08941a8b19254ca001e98bb",
       "version_major": 2,
       "version_minor": 0
      },
      "text/plain": [
       "model-00002-of-00002.safetensors:   0%|          | 0.00/241M [00:00<?, ?B/s]"
      ]
     },
     "metadata": {},
     "output_type": "display_data"
    },
    {
     "data": {
      "application/vnd.jupyter.widget-view+json": {
       "model_id": "f4d3560a1f2e4e188389732eec427171",
       "version_major": 2,
       "version_minor": 0
      },
      "text/plain": [
       "model-00001-of-00002.safetensors:   0%|          | 0.00/4.99G [00:00<?, ?B/s]"
      ]
     },
     "metadata": {},
     "output_type": "display_data"
    },
    {
     "data": {
      "application/vnd.jupyter.widget-view+json": {
       "model_id": "211faaa475de45ec857885e1d1f71ee6",
       "version_major": 2,
       "version_minor": 0
      },
      "text/plain": [
       "Loading checkpoint shards:   0%|          | 0/2 [00:00<?, ?it/s]"
      ]
     },
     "metadata": {},
     "output_type": "display_data"
    },
    {
     "data": {
      "application/vnd.jupyter.widget-view+json": {
       "model_id": "de8b3a9d6e144f2ba548c538e5f9a9aa",
       "version_major": 2,
       "version_minor": 0
      },
      "text/plain": [
       "generation_config.json:   0%|          | 0.00/187 [00:00<?, ?B/s]"
      ]
     },
     "metadata": {},
     "output_type": "display_data"
    }
   ],
   "source": [
    "from transformers import AutoTokenizer, AutoModelForCausalLM\n",
    "from transformers import BitsAndBytesConfig\n",
    "\n",
    "#quantization_config = BitsAndBytesConfig(load_in_4bit=True)\n",
    "\n",
    "model_id = \"google/gemma-2-2b-it\"\n",
    "\n",
    "tokenizer = AutoTokenizer.from_pretrained(pretrained_model_name_or_path=model_id)\n",
    "\n",
    "llm_model = AutoModelForCausalLM.from_pretrained(pretrained_model_name_or_path=model_id, torch_dtype=torch.float16)"
   ]
  },
  {
   "cell_type": "code",
   "execution_count": 169,
   "id": "7d8041c8",
   "metadata": {},
   "outputs": [
    {
     "data": {
      "text/plain": [
       "Gemma2ForCausalLM(\n",
       "  (model): Gemma2Model(\n",
       "    (embed_tokens): Embedding(256000, 2304, padding_idx=0)\n",
       "    (layers): ModuleList(\n",
       "      (0-25): 26 x Gemma2DecoderLayer(\n",
       "        (self_attn): Gemma2Attention(\n",
       "          (q_proj): Linear(in_features=2304, out_features=2048, bias=False)\n",
       "          (k_proj): Linear(in_features=2304, out_features=1024, bias=False)\n",
       "          (v_proj): Linear(in_features=2304, out_features=1024, bias=False)\n",
       "          (o_proj): Linear(in_features=2048, out_features=2304, bias=False)\n",
       "        )\n",
       "        (mlp): Gemma2MLP(\n",
       "          (gate_proj): Linear(in_features=2304, out_features=9216, bias=False)\n",
       "          (up_proj): Linear(in_features=2304, out_features=9216, bias=False)\n",
       "          (down_proj): Linear(in_features=9216, out_features=2304, bias=False)\n",
       "          (act_fn): PytorchGELUTanh()\n",
       "        )\n",
       "        (input_layernorm): Gemma2RMSNorm((2304,), eps=1e-06)\n",
       "        (post_attention_layernorm): Gemma2RMSNorm((2304,), eps=1e-06)\n",
       "        (pre_feedforward_layernorm): Gemma2RMSNorm((2304,), eps=1e-06)\n",
       "        (post_feedforward_layernorm): Gemma2RMSNorm((2304,), eps=1e-06)\n",
       "      )\n",
       "    )\n",
       "    (norm): Gemma2RMSNorm((2304,), eps=1e-06)\n",
       "    (rotary_emb): Gemma2RotaryEmbedding()\n",
       "  )\n",
       "  (lm_head): Linear(in_features=2304, out_features=256000, bias=False)\n",
       ")"
      ]
     },
     "execution_count": 169,
     "metadata": {},
     "output_type": "execute_result"
    }
   ],
   "source": [
    "llm_model"
   ]
  },
  {
   "cell_type": "code",
   "execution_count": 170,
   "id": "5db53fbe",
   "metadata": {},
   "outputs": [
    {
     "data": {
      "text/plain": [
       "2614341888"
      ]
     },
     "execution_count": 170,
     "metadata": {},
     "output_type": "execute_result"
    }
   ],
   "source": [
    "def get_model_num_params(model: torch.nn.Module):\n",
    "    return sum([param.numel() for param in model.parameters()])\n",
    "\n",
    "get_model_num_params(llm_model)"
   ]
  },
  {
   "cell_type": "code",
   "execution_count": 172,
   "id": "379537a8",
   "metadata": {},
   "outputs": [
    {
     "data": {
      "text/plain": [
       "{'model_mem_bytes': 5228684288, 'model_mem_mb': 4986.46, 'model_mem_gb': 4.87}"
      ]
     },
     "execution_count": 172,
     "metadata": {},
     "output_type": "execute_result"
    }
   ],
   "source": [
    "def get_model_mem_size(model: torch.nn.Module):\n",
    "    mem_params = sum([param.nelement() * param.element_size() for param in model.parameters()])\n",
    "    mem_buffers = sum([buf.nelement() * buf.element_size() for buf in model.buffers()])\n",
    "\n",
    "    model_mem_bytes = mem_params + mem_buffers\n",
    "    model_mem_mb = model_mem_bytes / (1024**2)\n",
    "    model_mem_gb = model_mem_bytes / (1024**3)\n",
    "\n",
    "    return {\"model_mem_bytes\": round(model_mem_bytes,2),\n",
    "            \"model_mem_mb\": round(model_mem_mb,2),\n",
    "            \"model_mem_gb\": round(model_mem_gb,2)}\n",
    "get_model_mem_size(llm_model)"
   ]
  },
  {
   "cell_type": "markdown",
   "id": "928a9aa9",
   "metadata": {},
   "source": [
    "You need to keep in mind that min memory required to run a model does not directly mean that it is the min amount. forward pass for the model takes up a fair amount of space as well so you need to do calculations based on that as well."
   ]
  },
  {
   "cell_type": "markdown",
   "id": "cfc37480",
   "metadata": {},
   "source": [
    "### 6. Text generation with LLMs\n",
    "\n",
    "Time to generate text with the local llm_model\n",
    "\n",
    "Small Note: some models have been trained/tuned to generate text with a specific template in mind\n",
    "\n",
    "Because gemma 2b it has been trained in an instruction tuned manner, you should follow the instruction template to get the best out of the model."
   ]
  },
  {
   "cell_type": "code",
   "execution_count": 178,
   "id": "05808f9f",
   "metadata": {},
   "outputs": [
    {
     "name": "stdout",
     "output_type": "stream",
     "text": [
      "input text is: How long should infants be breastfed for ?\n",
      "\n",
      "Prompt (formatted): \n",
      "<bos><start_of_turn>user\n",
      "How long should infants be breastfed for ?<end_of_turn>\n",
      "<start_of_turn>model\n",
      "\n"
     ]
    }
   ],
   "source": [
    "input_text = \"How long should infants be breastfed for ?\"\n",
    "print(f\"input text is: {input_text}\")\n",
    "\n",
    "dialogue_template = [\n",
    "    {\"role\": \"user\",\n",
    "     \"content\": input_text}\n",
    "]\n",
    "\n",
    "prompt = tokenizer.apply_chat_template(conversation=dialogue_template,\n",
    "                                       tokenize=False,\n",
    "                                       add_generation_prompt=True)\n",
    "\n",
    "print(f\"\\nPrompt (formatted): \\n{prompt}\")"
   ]
  },
  {
   "cell_type": "code",
   "execution_count": 179,
   "id": "5e20fafd",
   "metadata": {},
   "outputs": [
    {
     "name": "stdout",
     "output_type": "stream",
     "text": [
      "Model output tokens:\n",
      "tensor([     2,      2,    106,   1645,    108,   2299,   1497,   1412,  45770,\n",
      "           614,  14665,  30629,    604,   1654,    107,    108,    106,   2516,\n",
      "           108,    651,   3855,   5101,  19847,    591,  38394, 235275,    578,\n",
      "           573,   3725,  13322,    576, 125142,    591,  79569, 235275,   5656,\n",
      "         15587,  84810,    604,    573,   1370,   4442,   4063,    576,   1913,\n",
      "        235269,   7599,    731,   7822,  84810,  22814,   8348,  55670,  16512,\n",
      "           604,    908,    577,   1378,   1658,    689,   7781, 235265, 235248,\n",
      "           109,   4858, 235303, 235256,    476,  25497, 235292,    109,    688,\n",
      "         79604,  84810,  66058,    109, 235287,   5231,   5546, 235248, 235318,\n",
      "          4063,  66058,   1417,    603,    573,   1546,  20305,   1069,    604,\n",
      "         45770, 235303,   2962,    578,   3505, 235265,  60283,   9512,   6572,\n",
      "           832,    573,  37132,    578,  43083,    984,   1476,    604,  19735,\n",
      "          5115,    578,   3505, 235265,    108, 235287,   5231,  27340,    576,\n",
      "         15587,  84810,  66058,    108,    141, 235287,   5231,   8438,  12635,\n",
      "         66058,  60283,   9512,   7744,  43083,    578,   1156,  24091,   7549,\n",
      "           674,   9051,  45770,    774,  27790,   1154,   2007,  27790, 235269,\n",
      "         34012,  68835, 235269,  70781, 235269,    578,  69516, 235265,    108,\n",
      "           141, 235287,   5231,  11685,  22953,  66058,  60283,   9512,    603,\n",
      "          6645, 217172,    578,   7154,    675,   9606,  51536, 235265,    108,\n",
      "           141, 235287,   5231,  37068,   3505,  66058,  60283,   9512,   7744,\n",
      "         39789,  22589,    578,   1156,  37132,    674,   2676,   9494,   3505,\n",
      "        235265,    108,    141, 235287,   5231,  96615,   5685,    576,  19424,\n",
      "         16011,  66058,  60283,  47944,    919,   1125,  14952,    577,    476,\n",
      "          4581,   5685,    576,  52800, 235269,   1916, 235248, 235284,  19641,\n",
      "        235269,    578,   1009,  66251,   3416,    575,   1913, 235265,    109,\n",
      "           688,  49614, 235248, 235318,   4063,  66058,    109, 235287,   5231,\n",
      "         28296,  84810,  22814,  55670,  16512,  66058,   4660,   4442,   4063,\n",
      "        235269,  45770,    798,   2238,  14051,  55670,  16512,  22814,  84810,\n",
      "        235265,   1417,    798,   5374,    604,    685,   1497,    685,    573,\n",
      "          5290,    578,   5760,  12005, 235265,    108, 235287,   5231,  27340,\n",
      "           576,   7822,  84810,  66058,    108])\n",
      "\n",
      "CPU times: total: 7min 13s\n",
      "Wall time: 1min 57s\n"
     ]
    }
   ],
   "source": [
    "%%time\n",
    "\n",
    "input_ids = tokenizer(prompt, \n",
    "                     return_tensors=\"pt\")\n",
    "\n",
    "input_ids\n",
    "\n",
    "outputs = llm_model.generate(**input_ids, max_new_tokens=256)\n",
    "\n",
    "print(f\"Model output tokens:\\n{outputs[0]}\\n\")"
   ]
  },
  {
   "cell_type": "code",
   "execution_count": 180,
   "id": "4460eaea",
   "metadata": {},
   "outputs": [
    {
     "name": "stdout",
     "output_type": "stream",
     "text": [
      "Model output(decoded):\n",
      "<bos><bos><start_of_turn>user\n",
      "How long should infants be breastfed for ?<end_of_turn>\n",
      "<start_of_turn>model\n",
      "The World Health Organization (WHO) and the American Academy of Pediatrics (AAP) recommend exclusive breastfeeding for the first six months of life, followed by continued breastfeeding alongside appropriate complementary foods for up to two years or beyond. \n",
      "\n",
      "Here's a breakdown:\n",
      "\n",
      "**Exclusive breastfeeding:**\n",
      "\n",
      "* **First 6 months:** This is the most crucial time for infants' health and development. Breast milk provides all the nutrients and antibodies they need for optimal growth and development.\n",
      "* **Benefits of exclusive breastfeeding:**\n",
      "    * **Immunity:** Breast milk contains antibodies and other immune factors that protect infants from infections like ear infections, respiratory illnesses, diarrhea, and allergies.\n",
      "    * **Digestion:** Breast milk is easily digestible and helps with healthy digestion.\n",
      "    * **Brain development:** Breast milk contains fatty acids and other nutrients that support brain development.\n",
      "    * **Reduced risk of chronic diseases:** Breastfeeding has been linked to a lower risk of obesity, type 2 diabetes, and some cancers later in life.\n",
      "\n",
      "**Beyond 6 months:**\n",
      "\n",
      "* **Continued breastfeeding alongside complementary foods:** After six months, infants can start receiving complementary foods alongside breastfeeding. This can continue for as long as the mother and baby desire.\n",
      "* **Benefits of continued breastfeeding:**\n",
      "\n",
      "\n"
     ]
    }
   ],
   "source": [
    "outputs_decoded = tokenizer.decode(outputs[0])\n",
    "print(f\"Model output(decoded):\\n{outputs_decoded}\\n\")"
   ]
  },
  {
   "cell_type": "code",
   "execution_count": 182,
   "id": "7d798770",
   "metadata": {},
   "outputs": [
    {
     "data": {
      "text/plain": [
       "['What are the macronutrients, and what roles do they play in the human body.',\n",
       " 'How do vitamins and minerals differ in their roles and importance for health.',\n",
       " 'Describe the process of digestion and absorption of nutrients in the human body',\n",
       " 'What role does fibre play in digestion ? Name five fibre containing foods.',\n",
       " 'Explain the concept of energy balance and its importance in weight management.',\n",
       " 'How often should infants be breastfed?',\n",
       " 'What are the symptoms of pellagra?',\n",
       " 'How does saliva help with digestion?',\n",
       " 'What is the RDI for protein per day?',\n",
       " 'Water soluble vitamins']"
      ]
     },
     "execution_count": 182,
     "metadata": {},
     "output_type": "execute_result"
    }
   ],
   "source": [
    "gpt4_questions = [\"What are the macronutrients, and what roles do they play in the human body.\",\n",
    "                  \"How do vitamins and minerals differ in their roles and importance for health.\",\n",
    "                  \"Describe the process of digestion and absorption of nutrients in the human body\",\n",
    "                  \"What role does fibre play in digestion ? Name five fibre containing foods.\",\n",
    "                  \"Explain the concept of energy balance and its importance in weight management.\"\n",
    "                  ]\n",
    "\n",
    "manual_questions = [\n",
    "    \"How often should infants be breastfed?\",\n",
    "    \"What are the symptoms of pellagra?\",\n",
    "    \"How does saliva help with digestion?\",\n",
    "    \"What is the RDI for protein per day?\",\n",
    "    \"Water soluble vitamins\"\n",
    "]\n",
    "\n",
    "query_list = gpt4_questions + manual_questions\n",
    "query_list"
   ]
  },
  {
   "cell_type": "code",
   "execution_count": 183,
   "id": "0dbcbde0",
   "metadata": {},
   "outputs": [
    {
     "name": "stdout",
     "output_type": "stream",
     "text": [
      "query: What is the RDI for protein per day?\n",
      "time taken for execution is: 0.02069\n"
     ]
    },
    {
     "data": {
      "text/plain": [
       "(tensor([0.6499, 0.6182, 0.5861, 0.5587, 0.5472]),\n",
       " tensor([ 612,  611,  630, 1005,  613]))"
      ]
     },
     "execution_count": 183,
     "metadata": {},
     "output_type": "execute_result"
    }
   ],
   "source": [
    "import random \n",
    "\n",
    "query = random.choice(query_list)\n",
    "print(f\"query: {query}\")\n",
    "\n",
    "scores, indices = retrieve_relevant_resources(query=query,\n",
    "                                              embeddings=embeddings)\n",
    "scores, indices"
   ]
  },
  {
   "cell_type": "markdown",
   "id": "4114d007",
   "metadata": {},
   "source": [
    "### 7. Augmenting our prompt with context items\n",
    "\n",
    "Now the two parts of the RAG (namely retrievel and generation) are done we can now proceed to augmenting phase.\n",
    "\n",
    "the concept of augmenting a prompt with context items is also referred as prompt engineering.\n",
    "\n",
    "Prompt engineering is an active field of research and many new styles and techniques are being found out. \n",
    "\n",
    "However, there are a fair few techniques that work quite well.\n",
    "\n",
    "lets note some resources so that I am not lost when I want to find it.\n",
    "1. promptingguide.ai.\n",
    "2. github brexhq prompt-engineering.\n",
    "\n",
    "Some simple prompting techniques\n",
    "1. give clear instructions.\n",
    "2. give a few examples of input/output (e.g. given this input, I'd like this output.)\n",
    "3. give room to think (e.g. create a scratchpad/\"show your working space\"/ let's think step by step..)"
   ]
  },
  {
   "cell_type": "code",
   "execution_count": 186,
   "id": "3640130b",
   "metadata": {},
   "outputs": [
    {
     "name": "stdout",
     "output_type": "stream",
     "text": [
      "Query: Water soluble vitamins\n",
      "time taken for execution is: 0.01849\n",
      "Based on the following content items, please answer the query.\n",
      "    Context items:\n",
      "    - http://ods.od.nih.gov/factsheets/VitaminC-QuickFacts/. Updated  June 24, 2011. Accessed October 5, 2017. Water-Soluble Vitamins  |  557\n",
      "- function, others are used to maintain fluid balance, build bone  tissue, synthesize hormones, transmit nerve impulses, contract and  relax muscles, and protect against harmful free radicals in the body  that can cause health problems such as cancer. Vitamins  The thirteen vitamins are categorized as either water-soluble or  fat-soluble. The water-soluble vitamins are vitamin C and all the  B vitamins, which include thiamine, riboflavin, niacin, pantothenic  acid, pyridoxine, biotin, folate and cobalamin. The fat-soluble  vitamins are A, D, E, and K. Vitamins are required to perform many  functions in the body such as making red blood cells, synthesizing  bone tissue, and playing a role in normal vision, nervous system  function, and immune system function. Table 1.2 Vitamins and Their Major Functions  10  |  Introduction\n",
      "- Image by  Allison  Calabrese /  CC BY 4.0  One major difference between fat-soluble vitamins and water- soluble vitamins is the way they are absorbed in the body. Vitamins  are absorbed primarily in the small intestine and their bioavailability  is dependent on the food composition of the diet. Fat-soluble  vitamins are absorbed along with dietary fat. Therefore, if a meal  is very low in fat, the absorption of the fat-soluble vitamins will be  impaired. Once fat-soluble vitamins have been absorbed in the small  intestine, they are packaged and incorporated into chylomicrons  along with other fatty acids and transported in the lymphatic  system to the liver. Water-soluble vitamins on the other hand are  absorbed in the small intestine but are transported to the liver  through blood vessels. Figure 9.2 “Absorption of Fat-Soluble and Water-Soluble Vitamins    518  |  Introduction\n",
      "- Journal of the National Cancer  Institute, 96(23), 1743–50.http://jnci.oxfordjournals.org/ content/96/23/1743.long. Accessed October 6, 2017. 526  |  Fat-Soluble Vitamins\n",
      "- http://ods.od.nih.gov/factsheets/VitaminA- QuickFacts/. Updated September 5, 2012. Accessed  October 7, 2017. Fat-Soluble Vitamins  |  527\n",
      "    Query: Water soluble vitamins\n",
      "    Answer:\n",
      "    \n"
     ]
    }
   ],
   "source": [
    "def prompt_formatter(query: str,\n",
    "                     context_items: list[dict]) -> str:\n",
    "    \n",
    "    context = \"- \" + \"\\n- \".join([item[\"sentence_chunk\"] for item in context_items])\n",
    "\n",
    "    base_prompt = \"\"\"Based on the following content items, please answer the query.\n",
    "    Context items:\n",
    "    {context}\n",
    "    Query: {query}\n",
    "    Answer:\n",
    "    \"\"\"\n",
    "\n",
    "    prompt = base_prompt.format(context=context, query=query)\n",
    "    return prompt\n",
    "query = random.choice(query_list)\n",
    "print(f\"Query: {query}\")\n",
    "\n",
    "scores, indices = retrieve_relevant_resources(query=query,\n",
    "                                              embeddings=embeddings)\n",
    "\n",
    "context_items = [pages_and_chunks[i] for i in indices]\n",
    "\n",
    "prompt = prompt_formatter(query=query,\n",
    "                          context_items=context_items)\n",
    "\n",
    "print(prompt)"
   ]
  },
  {
   "cell_type": "markdown",
   "id": "f638d18d",
   "metadata": {},
   "source": [
    "Prompt example:\n",
    "\n",
    "Based on the following contexts:\n",
    "-a\n",
    "-b\n",
    "-c\n",
    "\n",
    "Please answer the following query: what are the macronutrients and what do they do?\n",
    "Answer:"
   ]
  },
  {
   "cell_type": "code",
   "execution_count": 187,
   "id": "33ff7614",
   "metadata": {},
   "outputs": [
    {
     "name": "stdout",
     "output_type": "stream",
     "text": [
      "query: Water soluble vitamins\n",
      "Rag answer: \n",
      "<bos>Water-soluble vitamins are vitamin C and all the B vitamins, which include thiamine, riboflavin, niacin, pantothenic acid, pyridoxine, biotin, folate, and cobalamin.\n",
      "\n",
      "\n",
      "<end_of_turn>\n",
      "CPU times: total: 9min 45s\n",
      "Wall time: 2min 36s\n"
     ]
    }
   ],
   "source": [
    "%%time \n",
    "\n",
    "input_ids = tokenizer(prompt, return_tensors=\"pt\")\n",
    "\n",
    "outputs = llm_model.generate(**input_ids,\n",
    "                    temperature=0.7,\n",
    "                    do_sample=True,\n",
    "                    max_new_tokens=256)\n",
    "\n",
    "output_text = tokenizer.decode(outputs[0])\n",
    "print(f\"query: {query}\")\n",
    "print(f\"Rag answer: \\n{output_text.replace(prompt, '')}\")"
   ]
  },
  {
   "cell_type": "markdown",
   "id": "ae42f98f",
   "metadata": {},
   "source": [
    "huyenchip.com sampling is a great blog/paper about whether to use sampling or not."
   ]
  },
  {
   "cell_type": "markdown",
   "id": "ff844cfc",
   "metadata": {},
   "source": [
    "### 8. Functionazing LLM answering feature"
   ]
  },
  {
   "cell_type": "code",
   "execution_count": 191,
   "id": "4904c895",
   "metadata": {},
   "outputs": [],
   "source": [
    "def ask(query:str,\n",
    "        temperature: float=0.7,\n",
    "        max_new_tokens: int=256,\n",
    "        format_answer_text=True,\n",
    "        return_answer_only=True):\n",
    "    \"\"\"\n",
    "    Takes a query, finds relevant resources/context and generates an answer based on the relevant resources\n",
    "    \"\"\"\n",
    "\n",
    "    scores, indices = retrieve_relevant_resources(query=query,\n",
    "                                                  embeddings=embeddings)\n",
    "    \n",
    "    context_items = [pages_and_chunks[i] for i in indices]\n",
    "\n",
    "    for i, item in enumerate(context_items):\n",
    "        item[\"score\"] = scores[i]\n",
    "\n",
    "    prompt = prompt_formatter(query=query,\n",
    "                              context_items=context_items)\n",
    "    \n",
    "    input_ids = tokenizer(prompt, return_tensors=\"pt\")\n",
    "\n",
    "    outputs = llm_model.generate(**input_ids, temperature=temperature, do_sample=True, max_new_tokens=max_new_tokens)\n",
    "\n",
    "    output_text = tokenizer.decode(outputs[0])\n",
    "\n",
    "    if format_answer_text:\n",
    "        output_text = output_text.replace(prompt, \"\").replace(\"<bos>\", \"\").replace(\"<eos>\", \"\")\n",
    "\n",
    "    if return_answer_only:\n",
    "        return output_text\n",
    "    \n",
    "    return output_text, context_items"
   ]
  },
  {
   "cell_type": "code",
   "execution_count": 194,
   "id": "70b16daf",
   "metadata": {},
   "outputs": [
    {
     "name": "stdout",
     "output_type": "stream",
     "text": [
      "query: What is the RDI for protein per day?\n",
      "time taken for execution is: 0.01002\n"
     ]
    },
    {
     "data": {
      "text/plain": [
       "'The provided text does not state the RDI for protein per day. \\n    It does state that the RDA for protein is 0.8 grams of protein per kilogram of body weight. \\n    It also provides a formula to calculate protein intake based on weight. \\n    It explains that the RDA is the amount of protein a person should consume in their diet to balance the amount of protein used up and lost from the body. \\n    It also explains that the RDA for protein was determined by assessing nitrogen balance. \\n    It explains that the RDA for protein is 0.8 grams of protein per kilogram of body weight. \\n    It also provides a formula to calculate protein intake based on weight. \\n    It explains that the RDA for protein was determined by assessing nitrogen balance. \\n    \\n<end_of_turn>'"
      ]
     },
     "execution_count": 194,
     "metadata": {},
     "output_type": "execute_result"
    }
   ],
   "source": [
    "query = random.choice(query_list)\n",
    "print(f\"query: {query}\")\n",
    "\n",
    "ask(query=query,\n",
    "    temperature = 0.2)"
   ]
  }
 ],
 "metadata": {
  "kernelspec": {
   "display_name": "base",
   "language": "python",
   "name": "python3"
  },
  "language_info": {
   "codemirror_mode": {
    "name": "ipython",
    "version": 3
   },
   "file_extension": ".py",
   "mimetype": "text/x-python",
   "name": "python",
   "nbconvert_exporter": "python",
   "pygments_lexer": "ipython3",
   "version": "3.11.4"
  }
 },
 "nbformat": 4,
 "nbformat_minor": 5
}
